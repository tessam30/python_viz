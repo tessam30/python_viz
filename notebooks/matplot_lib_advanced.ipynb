{
 "cells": [
  {
   "cell_type": "code",
   "execution_count": 80,
   "id": "0888745d",
   "metadata": {},
   "outputs": [],
   "source": [
    "import  matplotlib.pyplot as plt\n",
    "import pandas as pd\n",
    "import numpy as np\n",
    "import seaborn as sns\n",
    "import os\n"
   ]
  },
  {
   "cell_type": "code",
   "execution_count": 7,
   "id": "33a8c9c6",
   "metadata": {},
   "outputs": [
    {
     "data": {
      "application/vnd.microsoft.datawrangler.viewer.v0+json": {
       "columns": [
        {
         "name": "index",
         "rawType": "int64",
         "type": "integer"
        },
        {
         "name": "ID",
         "rawType": "int64",
         "type": "integer"
        },
        {
         "name": "Nationality",
         "rawType": "object",
         "type": "string"
        },
        {
         "name": "Age",
         "rawType": "float64",
         "type": "float"
        },
        {
         "name": "DaysSinceCreation",
         "rawType": "int64",
         "type": "integer"
        },
        {
         "name": "AverageLeadTime",
         "rawType": "int64",
         "type": "integer"
        },
        {
         "name": "LodgingRevenue",
         "rawType": "float64",
         "type": "float"
        },
        {
         "name": "OtherRevenue",
         "rawType": "float64",
         "type": "float"
        },
        {
         "name": "BookingsCanceled",
         "rawType": "int64",
         "type": "integer"
        },
        {
         "name": "BookingsNoShowed",
         "rawType": "int64",
         "type": "integer"
        },
        {
         "name": "BookingsCheckedIn",
         "rawType": "int64",
         "type": "integer"
        },
        {
         "name": "PersonsNights",
         "rawType": "int64",
         "type": "integer"
        },
        {
         "name": "RoomNights",
         "rawType": "int64",
         "type": "integer"
        },
        {
         "name": "DaysSinceLastStay",
         "rawType": "int64",
         "type": "integer"
        },
        {
         "name": "DaysSinceFirstStay",
         "rawType": "int64",
         "type": "integer"
        },
        {
         "name": "DistributionChannel",
         "rawType": "object",
         "type": "string"
        },
        {
         "name": "MarketSegment",
         "rawType": "object",
         "type": "string"
        },
        {
         "name": "SRHighFloor",
         "rawType": "int64",
         "type": "integer"
        },
        {
         "name": "SRLowFloor",
         "rawType": "int64",
         "type": "integer"
        },
        {
         "name": "SRAccessibleRoom",
         "rawType": "int64",
         "type": "integer"
        },
        {
         "name": "SRMediumFloor",
         "rawType": "int64",
         "type": "integer"
        },
        {
         "name": "SRBathtub",
         "rawType": "int64",
         "type": "integer"
        },
        {
         "name": "SRShower",
         "rawType": "int64",
         "type": "integer"
        },
        {
         "name": "SRCrib",
         "rawType": "int64",
         "type": "integer"
        },
        {
         "name": "SRKingSizeBed",
         "rawType": "int64",
         "type": "integer"
        },
        {
         "name": "SRTwinBed",
         "rawType": "int64",
         "type": "integer"
        },
        {
         "name": "SRNearElevator",
         "rawType": "int64",
         "type": "integer"
        },
        {
         "name": "SRAwayFromElevator",
         "rawType": "int64",
         "type": "integer"
        },
        {
         "name": "SRNoAlcoholInMiniBar",
         "rawType": "int64",
         "type": "integer"
        },
        {
         "name": "SRQuietRoom",
         "rawType": "int64",
         "type": "integer"
        }
       ],
       "conversionMethod": "pd.DataFrame",
       "ref": "a03461dd-ddbc-4d8c-873e-b264341c0a1d",
       "rows": [
        [
         "0",
         "1",
         "PRT",
         "51.0",
         "150",
         "45",
         "371.0",
         "105.3",
         "1",
         "0",
         "3",
         "8",
         "5",
         "151",
         "1074",
         "Corporate",
         "Corporate",
         "0",
         "0",
         "0",
         "0",
         "0",
         "0",
         "0",
         "0",
         "0",
         "0",
         "0",
         "0",
         "0"
        ],
        [
         "1",
         "2",
         "PRT",
         null,
         "1095",
         "61",
         "280.0",
         "53.0",
         "0",
         "0",
         "1",
         "10",
         "5",
         "1100",
         "1100",
         "Travel Agent/Operator",
         "Travel Agent/Operator",
         "0",
         "0",
         "0",
         "0",
         "0",
         "0",
         "0",
         "0",
         "0",
         "0",
         "0",
         "0",
         "0"
        ],
        [
         "2",
         "3",
         "DEU",
         "31.0",
         "1095",
         "0",
         "0.0",
         "0.0",
         "0",
         "0",
         "0",
         "0",
         "0",
         "-1",
         "-1",
         "Travel Agent/Operator",
         "Travel Agent/Operator",
         "0",
         "0",
         "0",
         "0",
         "0",
         "0",
         "0",
         "0",
         "0",
         "0",
         "0",
         "0",
         "0"
        ],
        [
         "3",
         "4",
         "FRA",
         "60.0",
         "1095",
         "93",
         "240.0",
         "60.0",
         "0",
         "0",
         "1",
         "10",
         "5",
         "1100",
         "1100",
         "Travel Agent/Operator",
         "Travel Agent/Operator",
         "0",
         "0",
         "0",
         "0",
         "0",
         "0",
         "0",
         "0",
         "0",
         "0",
         "0",
         "0",
         "0"
        ],
        [
         "4",
         "5",
         "FRA",
         "51.0",
         "1095",
         "0",
         "0.0",
         "0.0",
         "0",
         "0",
         "0",
         "0",
         "0",
         "-1",
         "-1",
         "Travel Agent/Operator",
         "Travel Agent/Operator",
         "0",
         "0",
         "0",
         "0",
         "0",
         "0",
         "0",
         "0",
         "0",
         "0",
         "0",
         "0",
         "0"
        ]
       ],
       "shape": {
        "columns": 29,
        "rows": 5
       }
      },
      "text/html": [
       "<div>\n",
       "<style scoped>\n",
       "    .dataframe tbody tr th:only-of-type {\n",
       "        vertical-align: middle;\n",
       "    }\n",
       "\n",
       "    .dataframe tbody tr th {\n",
       "        vertical-align: top;\n",
       "    }\n",
       "\n",
       "    .dataframe thead th {\n",
       "        text-align: right;\n",
       "    }\n",
       "</style>\n",
       "<table border=\"1\" class=\"dataframe\">\n",
       "  <thead>\n",
       "    <tr style=\"text-align: right;\">\n",
       "      <th></th>\n",
       "      <th>ID</th>\n",
       "      <th>Nationality</th>\n",
       "      <th>Age</th>\n",
       "      <th>DaysSinceCreation</th>\n",
       "      <th>AverageLeadTime</th>\n",
       "      <th>LodgingRevenue</th>\n",
       "      <th>OtherRevenue</th>\n",
       "      <th>BookingsCanceled</th>\n",
       "      <th>BookingsNoShowed</th>\n",
       "      <th>BookingsCheckedIn</th>\n",
       "      <th>...</th>\n",
       "      <th>SRMediumFloor</th>\n",
       "      <th>SRBathtub</th>\n",
       "      <th>SRShower</th>\n",
       "      <th>SRCrib</th>\n",
       "      <th>SRKingSizeBed</th>\n",
       "      <th>SRTwinBed</th>\n",
       "      <th>SRNearElevator</th>\n",
       "      <th>SRAwayFromElevator</th>\n",
       "      <th>SRNoAlcoholInMiniBar</th>\n",
       "      <th>SRQuietRoom</th>\n",
       "    </tr>\n",
       "  </thead>\n",
       "  <tbody>\n",
       "    <tr>\n",
       "      <th>0</th>\n",
       "      <td>1</td>\n",
       "      <td>PRT</td>\n",
       "      <td>51.0</td>\n",
       "      <td>150</td>\n",
       "      <td>45</td>\n",
       "      <td>371.0</td>\n",
       "      <td>105.3</td>\n",
       "      <td>1</td>\n",
       "      <td>0</td>\n",
       "      <td>3</td>\n",
       "      <td>...</td>\n",
       "      <td>0</td>\n",
       "      <td>0</td>\n",
       "      <td>0</td>\n",
       "      <td>0</td>\n",
       "      <td>0</td>\n",
       "      <td>0</td>\n",
       "      <td>0</td>\n",
       "      <td>0</td>\n",
       "      <td>0</td>\n",
       "      <td>0</td>\n",
       "    </tr>\n",
       "    <tr>\n",
       "      <th>1</th>\n",
       "      <td>2</td>\n",
       "      <td>PRT</td>\n",
       "      <td>NaN</td>\n",
       "      <td>1095</td>\n",
       "      <td>61</td>\n",
       "      <td>280.0</td>\n",
       "      <td>53.0</td>\n",
       "      <td>0</td>\n",
       "      <td>0</td>\n",
       "      <td>1</td>\n",
       "      <td>...</td>\n",
       "      <td>0</td>\n",
       "      <td>0</td>\n",
       "      <td>0</td>\n",
       "      <td>0</td>\n",
       "      <td>0</td>\n",
       "      <td>0</td>\n",
       "      <td>0</td>\n",
       "      <td>0</td>\n",
       "      <td>0</td>\n",
       "      <td>0</td>\n",
       "    </tr>\n",
       "    <tr>\n",
       "      <th>2</th>\n",
       "      <td>3</td>\n",
       "      <td>DEU</td>\n",
       "      <td>31.0</td>\n",
       "      <td>1095</td>\n",
       "      <td>0</td>\n",
       "      <td>0.0</td>\n",
       "      <td>0.0</td>\n",
       "      <td>0</td>\n",
       "      <td>0</td>\n",
       "      <td>0</td>\n",
       "      <td>...</td>\n",
       "      <td>0</td>\n",
       "      <td>0</td>\n",
       "      <td>0</td>\n",
       "      <td>0</td>\n",
       "      <td>0</td>\n",
       "      <td>0</td>\n",
       "      <td>0</td>\n",
       "      <td>0</td>\n",
       "      <td>0</td>\n",
       "      <td>0</td>\n",
       "    </tr>\n",
       "    <tr>\n",
       "      <th>3</th>\n",
       "      <td>4</td>\n",
       "      <td>FRA</td>\n",
       "      <td>60.0</td>\n",
       "      <td>1095</td>\n",
       "      <td>93</td>\n",
       "      <td>240.0</td>\n",
       "      <td>60.0</td>\n",
       "      <td>0</td>\n",
       "      <td>0</td>\n",
       "      <td>1</td>\n",
       "      <td>...</td>\n",
       "      <td>0</td>\n",
       "      <td>0</td>\n",
       "      <td>0</td>\n",
       "      <td>0</td>\n",
       "      <td>0</td>\n",
       "      <td>0</td>\n",
       "      <td>0</td>\n",
       "      <td>0</td>\n",
       "      <td>0</td>\n",
       "      <td>0</td>\n",
       "    </tr>\n",
       "    <tr>\n",
       "      <th>4</th>\n",
       "      <td>5</td>\n",
       "      <td>FRA</td>\n",
       "      <td>51.0</td>\n",
       "      <td>1095</td>\n",
       "      <td>0</td>\n",
       "      <td>0.0</td>\n",
       "      <td>0.0</td>\n",
       "      <td>0</td>\n",
       "      <td>0</td>\n",
       "      <td>0</td>\n",
       "      <td>...</td>\n",
       "      <td>0</td>\n",
       "      <td>0</td>\n",
       "      <td>0</td>\n",
       "      <td>0</td>\n",
       "      <td>0</td>\n",
       "      <td>0</td>\n",
       "      <td>0</td>\n",
       "      <td>0</td>\n",
       "      <td>0</td>\n",
       "      <td>0</td>\n",
       "    </tr>\n",
       "  </tbody>\n",
       "</table>\n",
       "<p>5 rows × 29 columns</p>\n",
       "</div>"
      ],
      "text/plain": [
       "   ID Nationality   Age  DaysSinceCreation  AverageLeadTime  LodgingRevenue  \\\n",
       "0   1         PRT  51.0                150               45           371.0   \n",
       "1   2         PRT   NaN               1095               61           280.0   \n",
       "2   3         DEU  31.0               1095                0             0.0   \n",
       "3   4         FRA  60.0               1095               93           240.0   \n",
       "4   5         FRA  51.0               1095                0             0.0   \n",
       "\n",
       "   OtherRevenue  BookingsCanceled  BookingsNoShowed  BookingsCheckedIn  ...  \\\n",
       "0         105.3                 1                 0                  3  ...   \n",
       "1          53.0                 0                 0                  1  ...   \n",
       "2           0.0                 0                 0                  0  ...   \n",
       "3          60.0                 0                 0                  1  ...   \n",
       "4           0.0                 0                 0                  0  ...   \n",
       "\n",
       "   SRMediumFloor  SRBathtub  SRShower  SRCrib SRKingSizeBed SRTwinBed  \\\n",
       "0              0          0         0       0             0         0   \n",
       "1              0          0         0       0             0         0   \n",
       "2              0          0         0       0             0         0   \n",
       "3              0          0         0       0             0         0   \n",
       "4              0          0         0       0             0         0   \n",
       "\n",
       "   SRNearElevator  SRAwayFromElevator  SRNoAlcoholInMiniBar  SRQuietRoom  \n",
       "0               0                   0                     0            0  \n",
       "1               0                   0                     0            0  \n",
       "2               0                   0                     0            0  \n",
       "3               0                   0                     0            0  \n",
       "4               0                   0                     0            0  \n",
       "\n",
       "[5 rows x 29 columns]"
      ]
     },
     "execution_count": 7,
     "metadata": {},
     "output_type": "execute_result"
    }
   ],
   "source": [
    "hotels = pd.read_excel(\"../Data/HotelCustomersDataset.xlsx\")\n",
    "\n",
    "hotels.head()\n"
   ]
  },
  {
   "cell_type": "code",
   "execution_count": 6,
   "id": "ca438223",
   "metadata": {},
   "outputs": [
    {
     "data": {
      "text/plain": [
       "Index(['ID', 'Nationality', 'Age', 'DaysSinceCreation', 'AverageLeadTime',\n",
       "       'LodgingRevenue', 'OtherRevenue', 'BookingsCanceled',\n",
       "       'BookingsNoShowed', 'BookingsCheckedIn', 'PersonsNights', 'RoomNights',\n",
       "       'DaysSinceLastStay', 'DaysSinceFirstStay', 'DistributionChannel',\n",
       "       'MarketSegment', 'SRHighFloor', 'SRLowFloor', 'SRAccessibleRoom',\n",
       "       'SRMediumFloor', 'SRBathtub', 'SRShower', 'SRCrib', 'SRKingSizeBed',\n",
       "       'SRTwinBed', 'SRNearElevator', 'SRAwayFromElevator',\n",
       "       'SRNoAlcoholInMiniBar', 'SRQuietRoom'],\n",
       "      dtype='object')"
      ]
     },
     "execution_count": 6,
     "metadata": {},
     "output_type": "execute_result"
    }
   ],
   "source": [
    "hotels.columns"
   ]
  },
  {
   "cell_type": "code",
   "execution_count": 23,
   "id": "028b5155",
   "metadata": {},
   "outputs": [
    {
     "data": {
      "text/plain": [
       "RoomNights\n",
       "0     10448\n",
       "3      9670\n",
       "2      8838\n",
       "1      7048\n",
       "4      6266\n",
       "5      2971\n",
       "7      1113\n",
       "6       933\n",
       "8       172\n",
       "9        95\n",
       "10       89\n",
       "11       37\n",
       "12       27\n",
       "14       19\n",
       "13       11\n",
       "Name: count, dtype: int64"
      ]
     },
     "execution_count": 23,
     "metadata": {},
     "output_type": "execute_result"
    }
   ],
   "source": [
    "# Plot the distribution of lodging revune for top 5 countries\n",
    "top5_cntry = [\"PRT\", \"ESP\", \"FRA\", \"DEU\", \"GBR\"]\n",
    "\n",
    "# Filter to bookings with roomnights under 15 and keep the nationalities\n",
    "hotels_sub = hotels[(hotels[\"Nationality\"].isin(top5_cntry)) & (hotels[\"RoomNights\"] < 15)]\n",
    "\n",
    "hotels_sub = hotels_sub[[\"Nationality\", \"LodgingRevenue\", \"RoomNights\"]]\n",
    "\n",
    "hotels_sub[\"Nationality\"].value_counts()\n",
    "hotels_sub[\"RoomNights\"].value_counts()\n"
   ]
  },
  {
   "cell_type": "code",
   "execution_count": null,
   "id": "4561f7a4",
   "metadata": {},
   "outputs": [
    {
     "data": {
      "application/vnd.microsoft.datawrangler.viewer.v0+json": {
       "columns": [
        {
         "name": "index",
         "rawType": "int64",
         "type": "integer"
        },
        {
         "name": "Nationality",
         "rawType": "object",
         "type": "string"
        },
        {
         "name": "LodgingRevenue",
         "rawType": "float64",
         "type": "float"
        }
       ],
       "conversionMethod": "pd.DataFrame",
       "ref": "38cdb5c8-2f34-4773-b0f5-4e51428328d4",
       "rows": [
        [
         "0",
         "PRT",
         "371.0"
        ],
        [
         "1",
         "PRT",
         "280.0"
        ],
        [
         "2",
         "DEU",
         "0.0"
        ],
        [
         "3",
         "FRA",
         "240.0"
        ],
        [
         "4",
         "FRA",
         "0.0"
        ],
        [
         "7",
         "FRA",
         "535.0"
        ],
        [
         "8",
         "FRA",
         "0.0"
        ],
        [
         "11",
         "FRA",
         "292.0"
        ],
        [
         "12",
         "FRA",
         "0.0"
        ],
        [
         "13",
         "ESP",
         "327.7"
        ],
        [
         "14",
         "ESP",
         "0.0"
        ],
        [
         "15",
         "FRA",
         "437.0"
        ],
        [
         "16",
         "FRA",
         "455.0"
        ],
        [
         "17",
         "FRA",
         "0.0"
        ],
        [
         "18",
         "FRA",
         "174.0"
        ],
        [
         "19",
         "FRA",
         "0.0"
        ],
        [
         "20",
         "PRT",
         "224.0"
        ],
        [
         "23",
         "FRA",
         "144.0"
        ],
        [
         "24",
         "FRA",
         "0.0"
        ],
        [
         "26",
         "FRA",
         "240.0"
        ],
        [
         "27",
         "FRA",
         "0.0"
        ],
        [
         "30",
         "PRT",
         "1083.5"
        ],
        [
         "31",
         "PRT",
         "180.6"
        ],
        [
         "32",
         "PRT",
         "0.0"
        ],
        [
         "33",
         "PRT",
         "180.6"
        ],
        [
         "34",
         "PRT",
         "0.0"
        ],
        [
         "35",
         "PRT",
         "0.0"
        ],
        [
         "36",
         "DEU",
         "210.0"
        ],
        [
         "37",
         "DEU",
         "0.0"
        ],
        [
         "38",
         "PRT",
         "0.0"
        ],
        [
         "39",
         "PRT",
         "0.0"
        ],
        [
         "42",
         "FRA",
         "455.7"
        ],
        [
         "43",
         "FRA",
         "0.0"
        ],
        [
         "54",
         "PRT",
         "142.8"
        ],
        [
         "55",
         "PRT",
         "213.52"
        ],
        [
         "58",
         "PRT",
         "0.0"
        ],
        [
         "59",
         "PRT",
         "123.0"
        ],
        [
         "65",
         "PRT",
         "141.5"
        ],
        [
         "66",
         "FRA",
         "300.0"
        ],
        [
         "67",
         "FRA",
         "0.0"
        ],
        [
         "68",
         "FRA",
         "0.0"
        ],
        [
         "69",
         "PRT",
         "294.0"
        ],
        [
         "70",
         "ESP",
         "0.0"
        ],
        [
         "71",
         "FRA",
         "515.34"
        ],
        [
         "72",
         "FRA",
         "0.0"
        ],
        [
         "73",
         "FRA",
         "515.34"
        ],
        [
         "74",
         "FRA",
         "0.0"
        ],
        [
         "75",
         "FRA",
         "321.52"
        ],
        [
         "76",
         "FRA",
         "875.16"
        ],
        [
         "77",
         "FRA",
         "875.16"
        ]
       ],
       "shape": {
        "columns": 2,
        "rows": 47737
       }
      },
      "text/html": [
       "<div>\n",
       "<style scoped>\n",
       "    .dataframe tbody tr th:only-of-type {\n",
       "        vertical-align: middle;\n",
       "    }\n",
       "\n",
       "    .dataframe tbody tr th {\n",
       "        vertical-align: top;\n",
       "    }\n",
       "\n",
       "    .dataframe thead th {\n",
       "        text-align: right;\n",
       "    }\n",
       "</style>\n",
       "<table border=\"1\" class=\"dataframe\">\n",
       "  <thead>\n",
       "    <tr style=\"text-align: right;\">\n",
       "      <th></th>\n",
       "      <th>Nationality</th>\n",
       "      <th>LodgingRevenue</th>\n",
       "    </tr>\n",
       "  </thead>\n",
       "  <tbody>\n",
       "    <tr>\n",
       "      <th>0</th>\n",
       "      <td>PRT</td>\n",
       "      <td>371.0</td>\n",
       "    </tr>\n",
       "    <tr>\n",
       "      <th>1</th>\n",
       "      <td>PRT</td>\n",
       "      <td>280.0</td>\n",
       "    </tr>\n",
       "    <tr>\n",
       "      <th>2</th>\n",
       "      <td>DEU</td>\n",
       "      <td>0.0</td>\n",
       "    </tr>\n",
       "    <tr>\n",
       "      <th>3</th>\n",
       "      <td>FRA</td>\n",
       "      <td>240.0</td>\n",
       "    </tr>\n",
       "    <tr>\n",
       "      <th>4</th>\n",
       "      <td>FRA</td>\n",
       "      <td>0.0</td>\n",
       "    </tr>\n",
       "    <tr>\n",
       "      <th>...</th>\n",
       "      <td>...</td>\n",
       "      <td>...</td>\n",
       "    </tr>\n",
       "    <tr>\n",
       "      <th>83579</th>\n",
       "      <td>PRT</td>\n",
       "      <td>0.0</td>\n",
       "    </tr>\n",
       "    <tr>\n",
       "      <th>83580</th>\n",
       "      <td>DEU</td>\n",
       "      <td>176.0</td>\n",
       "    </tr>\n",
       "    <tr>\n",
       "      <th>83581</th>\n",
       "      <td>DEU</td>\n",
       "      <td>0.0</td>\n",
       "    </tr>\n",
       "    <tr>\n",
       "      <th>83582</th>\n",
       "      <td>FRA</td>\n",
       "      <td>143.0</td>\n",
       "    </tr>\n",
       "    <tr>\n",
       "      <th>83583</th>\n",
       "      <td>PRT</td>\n",
       "      <td>0.0</td>\n",
       "    </tr>\n",
       "  </tbody>\n",
       "</table>\n",
       "<p>47737 rows × 2 columns</p>\n",
       "</div>"
      ],
      "text/plain": [
       "      Nationality  LodgingRevenue\n",
       "0             PRT           371.0\n",
       "1             PRT           280.0\n",
       "2             DEU             0.0\n",
       "3             FRA           240.0\n",
       "4             FRA             0.0\n",
       "...           ...             ...\n",
       "83579         PRT             0.0\n",
       "83580         DEU           176.0\n",
       "83581         DEU             0.0\n",
       "83582         FRA           143.0\n",
       "83583         PRT             0.0\n",
       "\n",
       "[47737 rows x 2 columns]"
      ]
     },
     "execution_count": 58,
     "metadata": {},
     "output_type": "execute_result"
    }
   ],
   "source": [
    "# Another way to do the query using SQL'ish language\n",
    "# Filter, then keep the two columns that you need using the location indexing\n",
    "hotels.query(\"Nationality.isin(@top5_cntry) & RoomNights < 15\").loc[:, [\"Nationality\",\"LodgingRevenue\"]]"
   ]
  },
  {
   "cell_type": "code",
   "execution_count": 36,
   "id": "da60bde4",
   "metadata": {},
   "outputs": [
    {
     "data": {
      "text/plain": [
       "Index(['Nationality', 'LodgingRevenue', 'RoomNights'], dtype='object')"
      ]
     },
     "execution_count": 36,
     "metadata": {},
     "output_type": "execute_result"
    }
   ],
   "source": [
    "hotels_sub.columns\n"
   ]
  },
  {
   "cell_type": "code",
   "execution_count": 52,
   "id": "40e2b222",
   "metadata": {},
   "outputs": [
    {
     "name": "stderr",
     "output_type": "stream",
     "text": [
      "/var/folders/mv/y6dng09x31s7lvvx2x62hf1r0000gn/T/ipykernel_7018/1859702675.py:22: UserWarning: The figure layout has changed to tight\n",
      "  plt.tight_layout()\n"
     ]
    },
    {
     "data": {
      "image/png": "[encoded data removed]",
      "text/plain": [
       "<Figure size 640x480 with 6 Axes>"
      ]
     },
     "metadata": {},
     "output_type": "display_data"
    }
   ],
   "source": [
    "fig, ax = plt.subplots(2, 3, constrained_layout = True, sharex = \"all\", sharey = \"all\")\n",
    "\n",
    "ax[0][0].hist(hotels_sub.loc[hotels_sub[\"Nationality\"] == \"PRT\", [\"LodgingRevenue\"]])\n",
    "ax[0][0].set_title(\"PRT\")\n",
    "\n",
    "ax[0][1].hist(hotels_sub.loc[hotels_sub[\"Nationality\"] == \"ESP\", [\"LodgingRevenue\"]])\n",
    "ax[0][1].set_title(\"ESP\")\n",
    "\n",
    "ax[0][2].hist(hotels_sub.loc[hotels_sub[\"Nationality\"] == \"FRA\", [\"LodgingRevenue\"]])\n",
    "ax[0][2].set_title(\"FRA\")\n",
    "\n",
    "ax[1][0].hist(hotels_sub.loc[hotels_sub[\"Nationality\"] == \"DEU\", [\"LodgingRevenue\"]])\n",
    "ax[1][0].set_title(\"DEU\")\n",
    "\n",
    "ax[1][1].hist(hotels_sub.loc[hotels_sub[\"Nationality\"] == \"GBR\", [\"LodgingRevenue\"]])\n",
    "ax[1][1].set_title(\"GBR\")\n",
    "\n",
    "ax[1][2].set_axis_off()\n",
    "\n",
    "fig.suptitle(\"Revenue Distribution by Country\")\n",
    "\n",
    "plt.tight_layout()"
   ]
  },
  {
   "cell_type": "code",
   "execution_count": 60,
   "id": "07deed7e",
   "metadata": {},
   "outputs": [
    {
     "ename": "AttributeError",
     "evalue": "'GrouperView' object has no attribute 'join'",
     "output_type": "error",
     "traceback": [
      "\u001b[31m---------------------------------------------------------------------------\u001b[39m",
      "\u001b[31mAttributeError\u001b[39m                            Traceback (most recent call last)",
      "\u001b[36mCell\u001b[39m\u001b[36m \u001b[39m\u001b[32mIn[60]\u001b[39m\u001b[32m, line 29\u001b[39m\n\u001b[32m     26\u001b[39m     \u001b[38;5;28;01mif\u001b[39;00m (i / ncols) < nrows - \u001b[32m1\u001b[39m :\n\u001b[32m     27\u001b[39m         ax.set_xticks([])\n\u001b[32m---> \u001b[39m\u001b[32m29\u001b[39m \u001b[43max_list\u001b[49m\u001b[43m[\u001b[49m\u001b[32;43m0\u001b[39;49m\u001b[43m]\u001b[49m\u001b[43m.\u001b[49m\u001b[43mget_shared_x_axes\u001b[49m\u001b[43m(\u001b[49m\u001b[43m)\u001b[49m\u001b[43m.\u001b[49m\u001b[43mjoin\u001b[49m(ax_list[\u001b[32m0\u001b[39m], *ax_list)\n\u001b[32m     30\u001b[39m ax_list[\u001b[32m0\u001b[39m].get_shared_y_axes().join(ax_list[\u001b[32m0\u001b[39m], *ax_list)\n",
      "\u001b[31mAttributeError\u001b[39m: 'GrouperView' object has no attribute 'join'"
     ]
    },
    {
     "data": {
      "image/png": "[encoded data removed]",
      "text/plain": [
       "<Figure size 640x480 with 5 Axes>"
      ]
     },
     "metadata": {},
     "output_type": "display_data"
    }
   ],
   "source": [
    "# Using a loop to accomplish the same thing\n",
    "\n",
    "country_list = [\"PRT\", \"ESP\", \"FRA\", \"DEU\", \"GBR\"]\n",
    "\n",
    "ax_list = []\n",
    "\n",
    "nrows, ncols = (2, 3)\n",
    "\n",
    "fig = plt.figure(constrained_layout=True)\n",
    "\n",
    "for i, country in enumerate(country_list):\n",
    "    ax = fig.add_subplot(nrows, ncols, i + 1)\n",
    "    ax.hist(\n",
    "        (hotels\n",
    "         .query(f\"Nationality == '{country}' & RoomNights < 15\")\n",
    "         .loc[ :, \"LodgingRevenue\"]),\n",
    "        bins=20,\n",
    "    )\n",
    "\n",
    "    ax.set_title(f\"{country}\")\n",
    "    ax_list.append(ax)\n",
    "\n",
    "    if i % ncols != 0:\n",
    "        ax.set_yticks([])\n",
    "    \n",
    "    if (i / ncols) < nrows - 1 :\n",
    "        ax.set_xticks([])\n",
    "\n",
    "ax_list[0].get_shared_x_axes().join(ax_list[0], *ax_list)\n",
    "ax_list[0].get_shared_y_axes().join(ax_list[0], *ax_list)"
   ]
  },
  {
   "cell_type": "code",
   "execution_count": 63,
   "id": "ec0f66d9",
   "metadata": {},
   "outputs": [
    {
     "data": {
      "image/png": "[encoded data removed]",
      "text/plain": [
       "<Figure size 640x480 with 6 Axes>"
      ]
     },
     "metadata": {},
     "output_type": "display_data"
    }
   ],
   "source": [
    "#Using Pandas\n",
    "hotels_pivot = (\n",
    "    hotels\n",
    "    .query(\"Nationality in @country_list and RoomNights < 15\")\n",
    "    .pivot_table(\n",
    "        index = \"ID\",\n",
    "        columns = \"Nationality\",\n",
    "        values = \"LodgingRevenue\"\n",
    "    )\n",
    ")\n",
    "\n",
    "hotels_pivot.plot.hist(subplots = True,\n",
    "                       bins = 20,\n",
    "                       layout = (3, 2),\n",
    "                       sharex = True,\n",
    "                       sharey = True);"
   ]
  },
  {
   "cell_type": "code",
   "execution_count": 64,
   "id": "b483bed3",
   "metadata": {},
   "outputs": [],
   "source": [
    "# Colors - can be added by specifying a list of colors\n",
    "data = [x for x in range(10)]\n",
    "data2 = [x * 2 for x in range(10)]"
   ]
  },
  {
   "cell_type": "code",
   "execution_count": null,
   "id": "097230ec",
   "metadata": {},
   "outputs": [],
   "source": [
    "# changes default settings of colors used\n",
    "plt.rcParams[\"axes.prop_cycle\"] = plt.cycler(color = [\"red\", \"orange\", \"grey\", \"green\"])\n",
    "plt.rcParams[\"axes.prop_cycle\"] = plt.cycler(\"color\", plt.cm.Dark2.colors) # Sets it to Dark2 as default."
   ]
  },
  {
   "cell_type": "code",
   "execution_count": 76,
   "id": "9486fd75",
   "metadata": {},
   "outputs": [
    {
     "data": {
      "text/plain": [
       "[<matplotlib.lines.Line2D at 0x145baae90>]"
      ]
     },
     "execution_count": 76,
     "metadata": {},
     "output_type": "execute_result"
    },
    {
     "data": {
      "image/png": "[encoded data removed]",
      "text/plain": [
       "<Figure size 640x480 with 1 Axes>"
      ]
     },
     "metadata": {},
     "output_type": "display_data"
    }
   ],
   "source": [
    "fig, ax = plt.subplots()\n",
    "\n",
    "ax.plot(data, \n",
    "        #c = \"green\"\n",
    "        )\n",
    "ax.plot(data2, \n",
    "        #c= \"blue\"\n",
    "        )"
   ]
  },
  {
   "cell_type": "code",
   "execution_count": null,
   "id": "4e434433",
   "metadata": {},
   "outputs": [],
   "source": [
    "# These are the default settings for a plot, these can be changed globally\n",
    "plt.rc(\"axes.spines\", top = False, right = False)\n",
    "plt.rcParams[\"lines.linestyle\"] = \"--\""
   ]
  },
  {
   "cell_type": "code",
   "execution_count": 70,
   "id": "6203d449",
   "metadata": {},
   "outputs": [
    {
     "data": {
      "text/plain": [
       "[<matplotlib.lines.Line2D at 0x127f3da90>]"
      ]
     },
     "execution_count": 70,
     "metadata": {},
     "output_type": "execute_result"
    },
    {
     "data": {
      "image/png": "[encoded data removed]",
      "text/plain": [
       "<Figure size 640x480 with 1 Axes>"
      ]
     },
     "metadata": {},
     "output_type": "display_data"
    }
   ],
   "source": [
    "fig, ax = plt.subplots()\n",
    "ax.plot(data)"
   ]
  },
  {
   "cell_type": "code",
   "execution_count": 98,
   "id": "290ce483",
   "metadata": {
    "vscode": {
     "languageId": "markdown"
    }
   },
   "outputs": [
    {
     "name": "stdout",
     "output_type": "stream",
     "text": [
      "['Solarize_Light2', '_classic_test_patch', '_mpl-gallery', '_mpl-gallery-nogrid', 'bmh', 'classic', 'dark_background', 'fast', 'fivethirtyeight', 'ggplot', 'grayscale', 'petroff10', 'seaborn-v0_8', 'seaborn-v0_8-bright', 'seaborn-v0_8-colorblind', 'seaborn-v0_8-dark', 'seaborn-v0_8-dark-palette', 'seaborn-v0_8-darkgrid', 'seaborn-v0_8-deep', 'seaborn-v0_8-muted', 'seaborn-v0_8-notebook', 'seaborn-v0_8-paper', 'seaborn-v0_8-pastel', 'seaborn-v0_8-poster', 'seaborn-v0_8-talk', 'seaborn-v0_8-ticks', 'seaborn-v0_8-white', 'seaborn-v0_8-whitegrid', 'tableau-colorblind10']\n"
     ]
    },
    {
     "data": {
      "text/plain": [
       "RcParams({'axes.axisbelow': True,\n",
       "          'axes.edgecolor': 'white',\n",
       "          'axes.facecolor': '#EAEAF2',\n",
       "          'axes.grid': True,\n",
       "          'axes.labelcolor': '.15',\n",
       "          'axes.linewidth': 0.0,\n",
       "          'figure.facecolor': 'white',\n",
       "          'font.family': ['sans-serif'],\n",
       "          'font.sans-serif': ['Arial',\n",
       "                              'Liberation Sans',\n",
       "                              'DejaVu Sans',\n",
       "                              'Bitstream Vera Sans',\n",
       "                              'sans-serif'],\n",
       "          'grid.color': 'white',\n",
       "          'grid.linestyle': '-',\n",
       "          'image.cmap': 'Greys',\n",
       "          'legend.frameon': False,\n",
       "          'legend.numpoints': 1,\n",
       "          'legend.scatterpoints': 1,\n",
       "          'lines.solid_capstyle': <CapStyle.round: 'round'>,\n",
       "          'text.color': '.15',\n",
       "          'xtick.color': '.15',\n",
       "          'xtick.direction': 'out',\n",
       "          'xtick.major.size': 0.0,\n",
       "          'xtick.minor.size': 0.0,\n",
       "          'ytick.color': '.15',\n",
       "          'ytick.direction': 'out',\n",
       "          'ytick.major.size': 0.0,\n",
       "          'ytick.minor.size': 0.0})"
      ]
     },
     "execution_count": 98,
     "metadata": {},
     "output_type": "execute_result"
    }
   ],
   "source": [
    "# Look under the hood of a stylesheet\n",
    "print(plt.style.available)\n",
    "\n",
    "plt.style.library[\"seaborn-v0_8-darkgrid\"] # Now this should work!"
   ]
  }
 ],
 "metadata": {
  "kernelspec": {
   "display_name": ".venv",
   "language": "python",
   "name": "python3"
  },
  "language_info": {
   "codemirror_mode": {
    "name": "ipython",
    "version": 3
   },
   "file_extension": ".py",
   "mimetype": "text/x-python",
   "name": "python",
   "nbconvert_exporter": "python",
   "pygments_lexer": "ipython3",
   "version": "3.13.3"
  }
 },
 "nbformat": 4,
 "nbformat_minor": 5
}
