{
 "cells": [
  {
   "cell_type": "code",
   "execution_count": 220,
   "id": "e89f9655",
   "metadata": {},
   "outputs": [],
   "source": [
    "# Using the coffee data set, answer a bunch of questions\n",
    "import matplotlib.pyplot as plt\n",
    "import pandas as pd\n",
    "import os\n",
    "import numpy as np"
   ]
  },
  {
   "cell_type": "code",
   "execution_count": 221,
   "id": "42438830",
   "metadata": {},
   "outputs": [
    {
     "name": "stdout",
     "output_type": "stream",
     "text": [
      "<class 'pandas.core.frame.DataFrame'>\n",
      "RangeIndex: 56 entries, 0 to 55\n",
      "Data columns (total 30 columns):\n",
      " #   Column            Non-Null Count  Dtype  \n",
      "---  ------            --------------  -----  \n",
      " 0   total_production  56 non-null     object \n",
      " 1   1990              56 non-null     float64\n",
      " 2   1991              56 non-null     float64\n",
      " 3   1992              56 non-null     float64\n",
      " 4   1993              56 non-null     float64\n",
      " 5   1994              56 non-null     float64\n",
      " 6   1995              56 non-null     float64\n",
      " 7   1996              56 non-null     float64\n",
      " 8   1997              56 non-null     float64\n",
      " 9   1998              56 non-null     float64\n",
      " 10  1999              56 non-null     float64\n",
      " 11  2000              56 non-null     float64\n",
      " 12  2001              56 non-null     float64\n",
      " 13  2002              56 non-null     float64\n",
      " 14  2003              56 non-null     float64\n",
      " 15  2004              56 non-null     float64\n",
      " 16  2005              56 non-null     float64\n",
      " 17  2006              56 non-null     float64\n",
      " 18  2007              56 non-null     float64\n",
      " 19  2008              56 non-null     float64\n",
      " 20  2009              56 non-null     float64\n",
      " 21  2010              56 non-null     float64\n",
      " 22  2011              56 non-null     float64\n",
      " 23  2012              56 non-null     float64\n",
      " 24  2013              56 non-null     float64\n",
      " 25  2014              56 non-null     float64\n",
      " 26  2015              56 non-null     float64\n",
      " 27  2016              56 non-null     float64\n",
      " 28  2017              56 non-null     float64\n",
      " 29  2018              56 non-null     float64\n",
      "dtypes: float64(29), object(1)\n",
      "memory usage: 13.3+ KB\n"
     ]
    }
   ],
   "source": [
    "coffee = pd.read_csv(\"../Data/coffee/total-production.csv\")\n",
    "coffee.info()"
   ]
  },
  {
   "cell_type": "code",
   "execution_count": null,
   "id": "ca793423",
   "metadata": {},
   "outputs": [
    {
     "data": {
      "text/plain": [
       "Index(['Brazil', 'Viet Nam', 'Colombia', 'Indonesia', 'Ethiopia'], dtype='object', name='country')"
      ]
     },
     "execution_count": 63,
     "metadata": {},
     "output_type": "execute_result"
    }
   ],
   "source": [
    "# Create a bar chart of the top 10 coffee producers by total production in the 'total-production.csv'\n",
    "# Index should be years\n",
    "# Each column is a country\n",
    "\n",
    "# Let's get a list of total production across all the years with some reshaping\n",
    "reshape_cols = coffee.columns[1:]\n",
    "\n",
    "coffee_long = pd.melt(coffee,\n",
    "                      id_vars = [\"total_production\"],\n",
    "                      value_vars = reshape_cols,\n",
    "                      var_name = \"year\", \n",
    "                      value_name = \"production\").sort_values([\"total_production\", \"year\"])\n",
    "\n",
    "coffee_long.rename(columns = {\"total_production\":\"country\"}, inplace=True)\n",
    "\n",
    "top_10 = (coffee_long\n",
    "          .groupby(\"country\")\n",
    "          .agg(total_production = (\"production\", \"sum\"))\n",
    "          .sort_values(\"total_production\", ascending=False)\n",
    "          .iloc[0:10]\n",
    ")\n",
    "\n",
    "# Extract a list of the top 5 countries\n",
    "top_5 = top_10.index[0:5]\n"
   ]
  },
  {
   "cell_type": "code",
   "execution_count": 58,
   "id": "36b1a8b7",
   "metadata": {},
   "outputs": [
    {
     "name": "stderr",
     "output_type": "stream",
     "text": [
      "/var/folders/mv/y6dng09x31s7lvvx2x62hf1r0000gn/T/ipykernel_97170/1687316742.py:7: UserWarning: set_ticklabels() should only be used with a fixed number of ticks, i.e. after set_ticks() or using a FixedLocator.\n",
      "  ax.set_xticklabels(labels = labels)\n"
     ]
    },
    {
     "data": {
      "image/png": "[encoded data removed]",
      "text/plain": [
       "<Figure size 1000x500 with 1 Axes>"
      ]
     },
     "metadata": {},
     "output_type": "display_data"
    }
   ],
   "source": [
    "# Create a bar graph of the top 10 coffee prodcers. \n",
    "fig, ax = plt.subplots(figsize = (10, 5))\n",
    "\n",
    "labels = [\"BR\", \"VN\", \"CO\", \"ID\", \"ET\", \"IN\", \"MX\", \"GT\", \"HN\", \"UG\"]\n",
    "\n",
    "ax.bar(top_10.index, top_10[\"total_production\"]/1e6, color = \"#A9746E\")\n",
    "ax.set_xticklabels(labels = labels)\n",
    "\n",
    "ax.spines[[\"top\", \"right\"]].set_visible(False)\n",
    "ax.set_title(\"Top Coffee Producing Nations 1990-2018\", horizontalalignment =\"right\")\n",
    "ax.set_ylabel(\"Production (Millions 60kg Bags)\");\n",
    "\n"
   ]
  },
  {
   "cell_type": "code",
   "execution_count": 245,
   "id": "5077bd80",
   "metadata": {},
   "outputs": [
    {
     "data": {
      "text/plain": [
       "Index(['Brazil', 'Viet Nam', 'Colombia', 'Indonesia', 'Ethiopia'], dtype='object', name='country')"
      ]
     },
     "execution_count": 245,
     "metadata": {},
     "output_type": "execute_result"
    }
   ],
   "source": [
    "# Create a line graph of the top 5 counttries coffee production over time\n",
    "pivot_sorted = (\n",
    "    coffee_long[coffee_long[\"country\"].isin(top_5)]\n",
    "       .assign(overall = lambda x: x.groupby(\"country\")[\"production\"].transform(\"sum\"))\n",
    "       .sort_values([\"overall\", \"country\"], ascending=False)\n",
    "       .pivot_table(index = \"year\", \n",
    "                    columns = \"country\",\n",
    "                    values = \"production\", \n",
    "                    aggfunc = \"sum\",\n",
    "                    sort = False) # Don't sort columns in alpha order\n",
    ")\n",
    "\n",
    "# Cast date index value as a datetime64[ns] type\n",
    "pivot_sorted.index =  pivot_sorted.index.astype(\"datetime64[ns]\")\n",
    "\n",
    "pivot_sorted.columns"
   ]
  },
  {
   "cell_type": "code",
   "execution_count": 246,
   "id": "f2e4f746",
   "metadata": {},
   "outputs": [
    {
     "data": {
      "image/png": "[encoded data removed]",
      "text/plain": [
       "<Figure size 800x500 with 1 Axes>"
      ]
     },
     "metadata": {},
     "output_type": "display_data"
    }
   ],
   "source": [
    "# Create a line chart with the top five producers over time. Include a legend\n",
    "# Convert the index to a datetime64[ns]\n",
    "labels_list = pivot_sorted.columns\n",
    "xaxis_labels = list(range(1992, 2018, 1))\n",
    "\n",
    "\n",
    "fig, ax = plt.subplots(figsize = (8, 5))\n",
    "\n",
    "ax.plot(pivot_sorted)\n",
    "ax.legend(labels = labels_list)\n",
    "fig.suptitle(\"Top Coffee Producing Nations 1990-2018\")\n",
    "ax.set_title(\"Viet Nam Surges to Number 2 Spot\")\n",
    "ax.set_ylabel(\"Production (Thousand 60kg Bags)\")\n",
    "ax.spines[[\"top\", \"right\"]].set_visible(False)\n",
    "\n"
   ]
  },
  {
   "cell_type": "code",
   "execution_count": 250,
   "id": "ac856bef",
   "metadata": {},
   "outputs": [
    {
     "data": {
      "application/vnd.microsoft.datawrangler.viewer.v0+json": {
       "columns": [
        {
         "name": "year",
         "rawType": "object",
         "type": "string"
        },
        {
         "name": "Brazil",
         "rawType": "float64",
         "type": "float"
        },
        {
         "name": "rest_of_world",
         "rawType": "float64",
         "type": "float"
        }
       ],
       "conversionMethod": "pd.DataFrame",
       "ref": "b2d2dd3a-0e0a-4a7c-9a8a-452d427aa425",
       "rows": [
        [
         "1990",
         "27285.6286",
         "65944.431"
        ],
        [
         "1991",
         "27293.4934",
         "73973.19099999999"
        ],
        [
         "1992",
         "34603.3542",
         "63922.545"
        ],
        [
         "1993",
         "28166.9786",
         "63597.643000000004"
        ],
        [
         "1994",
         "28192.047",
         "65121.147"
        ],
        [
         "1995",
         "18060.2022",
         "69257.256"
        ],
        [
         "1996",
         "29196.743",
         "74105.853"
        ],
        [
         "1997",
         "26148.004",
         "73713.19499999999"
        ],
        [
         "1998",
         "36760.8533",
         "72131.3598"
        ],
        [
         "1999",
         "47577.8065",
         "83805.9902"
        ],
        [
         "2000",
         "31310.353",
         "82456.6197"
        ],
        [
         "2001",
         "31365.0955",
         "76534.0309"
        ],
        [
         "2002",
         "48351.634",
         "74264.1779"
        ],
        [
         "2003",
         "28873.4093",
         "76633.4004"
        ],
        [
         "2004",
         "39281.1457",
         "76784.6003"
        ],
        [
         "2005",
         "32932.9797",
         "78237.6566"
        ],
        [
         "2006",
         "48431.7338",
         "86958.9091"
        ],
        [
         "2007",
         "38911.4571",
         "82931.0027"
        ],
        [
         "2008",
         "51490.5177",
         "83309.1766"
        ],
        [
         "2009",
         "43976.812",
         "83997.0027"
        ],
        [
         "2010",
         "55428.4102",
         "86589.1274"
        ],
        [
         "2011",
         "48591.8289",
         "93883.5588"
        ],
        [
         "2012",
         "55418.0012",
         "95866.5109"
        ],
        [
         "2013",
         "54688.9664",
         "99406.3484"
        ],
        [
         "2014",
         "53304.7669",
         "96448.2752"
        ],
        [
         "2015",
         "52870.5876",
         "101117.0573"
        ],
        [
         "2016",
         "56788.1784",
         "103127.365"
        ],
        [
         "2017",
         "52739.8635",
         "105334.3207"
        ],
        [
         "2018",
         "62924.8836",
         "108011.8541"
        ]
       ],
       "shape": {
        "columns": 2,
        "rows": 29
       }
      },
      "text/html": [
       "<div>\n",
       "<style scoped>\n",
       "    .dataframe tbody tr th:only-of-type {\n",
       "        vertical-align: middle;\n",
       "    }\n",
       "\n",
       "    .dataframe tbody tr th {\n",
       "        vertical-align: top;\n",
       "    }\n",
       "\n",
       "    .dataframe thead th {\n",
       "        text-align: right;\n",
       "    }\n",
       "</style>\n",
       "<table border=\"1\" class=\"dataframe\">\n",
       "  <thead>\n",
       "    <tr style=\"text-align: right;\">\n",
       "      <th>grouper</th>\n",
       "      <th>Brazil</th>\n",
       "      <th>rest_of_world</th>\n",
       "    </tr>\n",
       "    <tr>\n",
       "      <th>year</th>\n",
       "      <th></th>\n",
       "      <th></th>\n",
       "    </tr>\n",
       "  </thead>\n",
       "  <tbody>\n",
       "    <tr>\n",
       "      <th>1990</th>\n",
       "      <td>27285.6286</td>\n",
       "      <td>65944.4310</td>\n",
       "    </tr>\n",
       "    <tr>\n",
       "      <th>1991</th>\n",
       "      <td>27293.4934</td>\n",
       "      <td>73973.1910</td>\n",
       "    </tr>\n",
       "    <tr>\n",
       "      <th>1992</th>\n",
       "      <td>34603.3542</td>\n",
       "      <td>63922.5450</td>\n",
       "    </tr>\n",
       "    <tr>\n",
       "      <th>1993</th>\n",
       "      <td>28166.9786</td>\n",
       "      <td>63597.6430</td>\n",
       "    </tr>\n",
       "    <tr>\n",
       "      <th>1994</th>\n",
       "      <td>28192.0470</td>\n",
       "      <td>65121.1470</td>\n",
       "    </tr>\n",
       "    <tr>\n",
       "      <th>1995</th>\n",
       "      <td>18060.2022</td>\n",
       "      <td>69257.2560</td>\n",
       "    </tr>\n",
       "    <tr>\n",
       "      <th>1996</th>\n",
       "      <td>29196.7430</td>\n",
       "      <td>74105.8530</td>\n",
       "    </tr>\n",
       "    <tr>\n",
       "      <th>1997</th>\n",
       "      <td>26148.0040</td>\n",
       "      <td>73713.1950</td>\n",
       "    </tr>\n",
       "    <tr>\n",
       "      <th>1998</th>\n",
       "      <td>36760.8533</td>\n",
       "      <td>72131.3598</td>\n",
       "    </tr>\n",
       "    <tr>\n",
       "      <th>1999</th>\n",
       "      <td>47577.8065</td>\n",
       "      <td>83805.9902</td>\n",
       "    </tr>\n",
       "    <tr>\n",
       "      <th>2000</th>\n",
       "      <td>31310.3530</td>\n",
       "      <td>82456.6197</td>\n",
       "    </tr>\n",
       "    <tr>\n",
       "      <th>2001</th>\n",
       "      <td>31365.0955</td>\n",
       "      <td>76534.0309</td>\n",
       "    </tr>\n",
       "    <tr>\n",
       "      <th>2002</th>\n",
       "      <td>48351.6340</td>\n",
       "      <td>74264.1779</td>\n",
       "    </tr>\n",
       "    <tr>\n",
       "      <th>2003</th>\n",
       "      <td>28873.4093</td>\n",
       "      <td>76633.4004</td>\n",
       "    </tr>\n",
       "    <tr>\n",
       "      <th>2004</th>\n",
       "      <td>39281.1457</td>\n",
       "      <td>76784.6003</td>\n",
       "    </tr>\n",
       "    <tr>\n",
       "      <th>2005</th>\n",
       "      <td>32932.9797</td>\n",
       "      <td>78237.6566</td>\n",
       "    </tr>\n",
       "    <tr>\n",
       "      <th>2006</th>\n",
       "      <td>48431.7338</td>\n",
       "      <td>86958.9091</td>\n",
       "    </tr>\n",
       "    <tr>\n",
       "      <th>2007</th>\n",
       "      <td>38911.4571</td>\n",
       "      <td>82931.0027</td>\n",
       "    </tr>\n",
       "    <tr>\n",
       "      <th>2008</th>\n",
       "      <td>51490.5177</td>\n",
       "      <td>83309.1766</td>\n",
       "    </tr>\n",
       "    <tr>\n",
       "      <th>2009</th>\n",
       "      <td>43976.8120</td>\n",
       "      <td>83997.0027</td>\n",
       "    </tr>\n",
       "    <tr>\n",
       "      <th>2010</th>\n",
       "      <td>55428.4102</td>\n",
       "      <td>86589.1274</td>\n",
       "    </tr>\n",
       "    <tr>\n",
       "      <th>2011</th>\n",
       "      <td>48591.8289</td>\n",
       "      <td>93883.5588</td>\n",
       "    </tr>\n",
       "    <tr>\n",
       "      <th>2012</th>\n",
       "      <td>55418.0012</td>\n",
       "      <td>95866.5109</td>\n",
       "    </tr>\n",
       "    <tr>\n",
       "      <th>2013</th>\n",
       "      <td>54688.9664</td>\n",
       "      <td>99406.3484</td>\n",
       "    </tr>\n",
       "    <tr>\n",
       "      <th>2014</th>\n",
       "      <td>53304.7669</td>\n",
       "      <td>96448.2752</td>\n",
       "    </tr>\n",
       "    <tr>\n",
       "      <th>2015</th>\n",
       "      <td>52870.5876</td>\n",
       "      <td>101117.0573</td>\n",
       "    </tr>\n",
       "    <tr>\n",
       "      <th>2016</th>\n",
       "      <td>56788.1784</td>\n",
       "      <td>103127.3650</td>\n",
       "    </tr>\n",
       "    <tr>\n",
       "      <th>2017</th>\n",
       "      <td>52739.8635</td>\n",
       "      <td>105334.3207</td>\n",
       "    </tr>\n",
       "    <tr>\n",
       "      <th>2018</th>\n",
       "      <td>62924.8836</td>\n",
       "      <td>108011.8541</td>\n",
       "    </tr>\n",
       "  </tbody>\n",
       "</table>\n",
       "</div>"
      ],
      "text/plain": [
       "grouper      Brazil  rest_of_world\n",
       "year                              \n",
       "1990     27285.6286     65944.4310\n",
       "1991     27293.4934     73973.1910\n",
       "1992     34603.3542     63922.5450\n",
       "1993     28166.9786     63597.6430\n",
       "1994     28192.0470     65121.1470\n",
       "1995     18060.2022     69257.2560\n",
       "1996     29196.7430     74105.8530\n",
       "1997     26148.0040     73713.1950\n",
       "1998     36760.8533     72131.3598\n",
       "1999     47577.8065     83805.9902\n",
       "2000     31310.3530     82456.6197\n",
       "2001     31365.0955     76534.0309\n",
       "2002     48351.6340     74264.1779\n",
       "2003     28873.4093     76633.4004\n",
       "2004     39281.1457     76784.6003\n",
       "2005     32932.9797     78237.6566\n",
       "2006     48431.7338     86958.9091\n",
       "2007     38911.4571     82931.0027\n",
       "2008     51490.5177     83309.1766\n",
       "2009     43976.8120     83997.0027\n",
       "2010     55428.4102     86589.1274\n",
       "2011     48591.8289     93883.5588\n",
       "2012     55418.0012     95866.5109\n",
       "2013     54688.9664     99406.3484\n",
       "2014     53304.7669     96448.2752\n",
       "2015     52870.5876    101117.0573\n",
       "2016     56788.1784    103127.3650\n",
       "2017     52739.8635    105334.3207\n",
       "2018     62924.8836    108011.8541"
      ]
     },
     "execution_count": 250,
     "metadata": {},
     "output_type": "execute_result"
    }
   ],
   "source": [
    "# Let's look at Brazil, compared to the rest of the workd in terms of total production by year\n",
    "coffee_long[\"grouper\"] = np.where(coffee_long[\"country\"] == \"Brazil\", \"Brazil\", \"rest_of_world\")\n",
    "\n",
    "brazil = (\n",
    "    coffee_long\n",
    "    .groupby([\"grouper\", \"year\"])\n",
    "    .agg(production = (\"production\", \"sum\"))\n",
    "    .reset_index()\n",
    ")\n",
    "\n",
    "brazil_wide = brazil.pivot_table(\n",
    "    index = \"year\",\n",
    "    columns = \"grouper\",\n",
    "    values = \"production\",\n",
    "    aggfunc = \"mean\"\n",
    ")\n",
    "brazil_wide"
   ]
  },
  {
   "cell_type": "code",
   "execution_count": 259,
   "id": "bcbc1d9a",
   "metadata": {},
   "outputs": [
    {
     "data": {
      "image/png": "[encoded data removed]",
      "text/plain": [
       "<Figure size 640x480 with 1 Axes>"
      ]
     },
     "metadata": {},
     "output_type": "display_data"
    }
   ],
   "source": [
    "fig, ax = plt.subplots()\n",
    "\n",
    "ax.stackplot(\n",
    "    brazil_wide.index.astype(\"datetime64[ns]\"),\n",
    "    brazil_wide[\"Brazil\"],\n",
    "    brazil_wide[\"rest_of_world\"],\n",
    "    labels=[\"Brazil\", \"Rest of World\"]\n",
    ")\n",
    "\n",
    "ax.legend(frameon = False)\n",
    "ax.set_ylabel(y_label)\n",
    "ax.spines[[\"top\", \"right\"]].set_visible(False)"
   ]
  },
  {
   "cell_type": "code",
   "execution_count": 169,
   "id": "603b859c",
   "metadata": {},
   "outputs": [
    {
     "data": {
      "application/vnd.microsoft.datawrangler.viewer.v0+json": {
       "columns": [
        {
         "name": "year",
         "rawType": "object",
         "type": "string"
        },
        {
         "name": "Brazil",
         "rawType": "float64",
         "type": "float"
        },
        {
         "name": "rest_of_world",
         "rawType": "float64",
         "type": "float"
        },
        {
         "name": "overall",
         "rawType": "float64",
         "type": "float"
        },
        {
         "name": "share",
         "rawType": "float64",
         "type": "float"
        }
       ],
       "conversionMethod": "pd.DataFrame",
       "ref": "e976512f-209b-41be-9514-55eefd214087",
       "rows": [
        [
         "1990",
         "27285.6286",
         "65944.431",
         "93230.0596",
         "0.29266986116996974"
        ],
        [
         "1991",
         "27293.4934",
         "73973.19099999999",
         "101266.6844",
         "0.26952095411943794"
        ],
        [
         "1992",
         "34603.3542",
         "63922.545",
         "98525.8992",
         "0.3512107423628568"
        ],
        [
         "1993",
         "28166.9786",
         "63597.643000000004",
         "91764.6216",
         "0.3069481256379964"
        ],
        [
         "1994",
         "28192.047",
         "65121.147",
         "93313.19399999999",
         "0.30212283806296464"
        ],
        [
         "1995",
         "18060.2022",
         "69257.256",
         "87317.4582",
         "0.20683380588831662"
        ],
        [
         "1996",
         "29196.743",
         "74105.853",
         "103302.596",
         "0.28263319733029746"
        ],
        [
         "1997",
         "26148.004",
         "73713.19499999999",
         "99861.199",
         "0.2618434813705772"
        ],
        [
         "1998",
         "36760.8533",
         "72131.3598",
         "108892.21310000001",
         "0.33758936707660686"
        ],
        [
         "1999",
         "47577.8065",
         "83805.9902",
         "131383.7967",
         "0.3621284183820515"
        ],
        [
         "2000",
         "31310.353",
         "82456.6197",
         "113766.9727",
         "0.27521478560007423"
        ],
        [
         "2001",
         "31365.0955",
         "76534.0309",
         "107899.1264",
         "0.2906890588133622"
        ],
        [
         "2002",
         "48351.634",
         "74264.1779",
         "122615.8119",
         "0.3943344112864778"
        ],
        [
         "2003",
         "28873.4093",
         "76633.4004",
         "105506.8097",
         "0.273663940575013"
        ],
        [
         "2004",
         "39281.1457",
         "76784.6003",
         "116065.74600000001",
         "0.33843874746645747"
        ],
        [
         "2005",
         "32932.9797",
         "78237.6566",
         "111170.63630000001",
         "0.29623811463243377"
        ],
        [
         "2006",
         "48431.7338",
         "86958.9091",
         "135390.6429",
         "0.35771847125190065"
        ],
        [
         "2007",
         "38911.4571",
         "82931.0027",
         "121842.4598",
         "0.31935876182959333"
        ],
        [
         "2008",
         "51490.5177",
         "83309.1766",
         "134799.6943",
         "0.3819780005242934"
        ],
        [
         "2009",
         "43976.812",
         "83997.0027",
         "127973.81469999999",
         "0.3436391429222591"
        ],
        [
         "2010",
         "55428.4102",
         "86589.1274",
         "142017.53759999998",
         "0.39029271410209276"
        ],
        [
         "2011",
         "48591.8289",
         "93883.5588",
         "142475.3877",
         "0.34105419668915915"
        ],
        [
         "2012",
         "55418.0012",
         "95866.5109",
         "151284.5121",
         "0.3663164221554177"
        ],
        [
         "2013",
         "54688.9664",
         "99406.3484",
         "154095.3148",
         "0.35490349898684914"
        ],
        [
         "2014",
         "53304.7669",
         "96448.2752",
         "149753.04210000002",
         "0.355951145649548"
        ],
        [
         "2015",
         "52870.5876",
         "101117.0573",
         "153987.6449",
         "0.3433430495955328"
        ],
        [
         "2016",
         "56788.1784",
         "103127.365",
         "159915.5434",
         "0.35511356302591907"
        ],
        [
         "2017",
         "52739.8635",
         "105334.3207",
         "158074.1842",
         "0.3336399537148458"
        ],
        [
         "2018",
         "62924.8836",
         "108011.8541",
         "170936.7377",
         "0.3681179625086527"
        ]
       ],
       "shape": {
        "columns": 4,
        "rows": 29
       }
      },
      "text/html": [
       "<div>\n",
       "<style scoped>\n",
       "    .dataframe tbody tr th:only-of-type {\n",
       "        vertical-align: middle;\n",
       "    }\n",
       "\n",
       "    .dataframe tbody tr th {\n",
       "        vertical-align: top;\n",
       "    }\n",
       "\n",
       "    .dataframe thead th {\n",
       "        text-align: right;\n",
       "    }\n",
       "</style>\n",
       "<table border=\"1\" class=\"dataframe\">\n",
       "  <thead>\n",
       "    <tr style=\"text-align: right;\">\n",
       "      <th>grouper</th>\n",
       "      <th>Brazil</th>\n",
       "      <th>rest_of_world</th>\n",
       "      <th>overall</th>\n",
       "      <th>share</th>\n",
       "    </tr>\n",
       "    <tr>\n",
       "      <th>year</th>\n",
       "      <th></th>\n",
       "      <th></th>\n",
       "      <th></th>\n",
       "      <th></th>\n",
       "    </tr>\n",
       "  </thead>\n",
       "  <tbody>\n",
       "    <tr>\n",
       "      <th>1990</th>\n",
       "      <td>27285.6286</td>\n",
       "      <td>65944.4310</td>\n",
       "      <td>93230.0596</td>\n",
       "      <td>0.292670</td>\n",
       "    </tr>\n",
       "    <tr>\n",
       "      <th>1991</th>\n",
       "      <td>27293.4934</td>\n",
       "      <td>73973.1910</td>\n",
       "      <td>101266.6844</td>\n",
       "      <td>0.269521</td>\n",
       "    </tr>\n",
       "    <tr>\n",
       "      <th>1992</th>\n",
       "      <td>34603.3542</td>\n",
       "      <td>63922.5450</td>\n",
       "      <td>98525.8992</td>\n",
       "      <td>0.351211</td>\n",
       "    </tr>\n",
       "    <tr>\n",
       "      <th>1993</th>\n",
       "      <td>28166.9786</td>\n",
       "      <td>63597.6430</td>\n",
       "      <td>91764.6216</td>\n",
       "      <td>0.306948</td>\n",
       "    </tr>\n",
       "    <tr>\n",
       "      <th>1994</th>\n",
       "      <td>28192.0470</td>\n",
       "      <td>65121.1470</td>\n",
       "      <td>93313.1940</td>\n",
       "      <td>0.302123</td>\n",
       "    </tr>\n",
       "    <tr>\n",
       "      <th>1995</th>\n",
       "      <td>18060.2022</td>\n",
       "      <td>69257.2560</td>\n",
       "      <td>87317.4582</td>\n",
       "      <td>0.206834</td>\n",
       "    </tr>\n",
       "    <tr>\n",
       "      <th>1996</th>\n",
       "      <td>29196.7430</td>\n",
       "      <td>74105.8530</td>\n",
       "      <td>103302.5960</td>\n",
       "      <td>0.282633</td>\n",
       "    </tr>\n",
       "    <tr>\n",
       "      <th>1997</th>\n",
       "      <td>26148.0040</td>\n",
       "      <td>73713.1950</td>\n",
       "      <td>99861.1990</td>\n",
       "      <td>0.261843</td>\n",
       "    </tr>\n",
       "    <tr>\n",
       "      <th>1998</th>\n",
       "      <td>36760.8533</td>\n",
       "      <td>72131.3598</td>\n",
       "      <td>108892.2131</td>\n",
       "      <td>0.337589</td>\n",
       "    </tr>\n",
       "    <tr>\n",
       "      <th>1999</th>\n",
       "      <td>47577.8065</td>\n",
       "      <td>83805.9902</td>\n",
       "      <td>131383.7967</td>\n",
       "      <td>0.362128</td>\n",
       "    </tr>\n",
       "    <tr>\n",
       "      <th>2000</th>\n",
       "      <td>31310.3530</td>\n",
       "      <td>82456.6197</td>\n",
       "      <td>113766.9727</td>\n",
       "      <td>0.275215</td>\n",
       "    </tr>\n",
       "    <tr>\n",
       "      <th>2001</th>\n",
       "      <td>31365.0955</td>\n",
       "      <td>76534.0309</td>\n",
       "      <td>107899.1264</td>\n",
       "      <td>0.290689</td>\n",
       "    </tr>\n",
       "    <tr>\n",
       "      <th>2002</th>\n",
       "      <td>48351.6340</td>\n",
       "      <td>74264.1779</td>\n",
       "      <td>122615.8119</td>\n",
       "      <td>0.394334</td>\n",
       "    </tr>\n",
       "    <tr>\n",
       "      <th>2003</th>\n",
       "      <td>28873.4093</td>\n",
       "      <td>76633.4004</td>\n",
       "      <td>105506.8097</td>\n",
       "      <td>0.273664</td>\n",
       "    </tr>\n",
       "    <tr>\n",
       "      <th>2004</th>\n",
       "      <td>39281.1457</td>\n",
       "      <td>76784.6003</td>\n",
       "      <td>116065.7460</td>\n",
       "      <td>0.338439</td>\n",
       "    </tr>\n",
       "    <tr>\n",
       "      <th>2005</th>\n",
       "      <td>32932.9797</td>\n",
       "      <td>78237.6566</td>\n",
       "      <td>111170.6363</td>\n",
       "      <td>0.296238</td>\n",
       "    </tr>\n",
       "    <tr>\n",
       "      <th>2006</th>\n",
       "      <td>48431.7338</td>\n",
       "      <td>86958.9091</td>\n",
       "      <td>135390.6429</td>\n",
       "      <td>0.357718</td>\n",
       "    </tr>\n",
       "    <tr>\n",
       "      <th>2007</th>\n",
       "      <td>38911.4571</td>\n",
       "      <td>82931.0027</td>\n",
       "      <td>121842.4598</td>\n",
       "      <td>0.319359</td>\n",
       "    </tr>\n",
       "    <tr>\n",
       "      <th>2008</th>\n",
       "      <td>51490.5177</td>\n",
       "      <td>83309.1766</td>\n",
       "      <td>134799.6943</td>\n",
       "      <td>0.381978</td>\n",
       "    </tr>\n",
       "    <tr>\n",
       "      <th>2009</th>\n",
       "      <td>43976.8120</td>\n",
       "      <td>83997.0027</td>\n",
       "      <td>127973.8147</td>\n",
       "      <td>0.343639</td>\n",
       "    </tr>\n",
       "    <tr>\n",
       "      <th>2010</th>\n",
       "      <td>55428.4102</td>\n",
       "      <td>86589.1274</td>\n",
       "      <td>142017.5376</td>\n",
       "      <td>0.390293</td>\n",
       "    </tr>\n",
       "    <tr>\n",
       "      <th>2011</th>\n",
       "      <td>48591.8289</td>\n",
       "      <td>93883.5588</td>\n",
       "      <td>142475.3877</td>\n",
       "      <td>0.341054</td>\n",
       "    </tr>\n",
       "    <tr>\n",
       "      <th>2012</th>\n",
       "      <td>55418.0012</td>\n",
       "      <td>95866.5109</td>\n",
       "      <td>151284.5121</td>\n",
       "      <td>0.366316</td>\n",
       "    </tr>\n",
       "    <tr>\n",
       "      <th>2013</th>\n",
       "      <td>54688.9664</td>\n",
       "      <td>99406.3484</td>\n",
       "      <td>154095.3148</td>\n",
       "      <td>0.354903</td>\n",
       "    </tr>\n",
       "    <tr>\n",
       "      <th>2014</th>\n",
       "      <td>53304.7669</td>\n",
       "      <td>96448.2752</td>\n",
       "      <td>149753.0421</td>\n",
       "      <td>0.355951</td>\n",
       "    </tr>\n",
       "    <tr>\n",
       "      <th>2015</th>\n",
       "      <td>52870.5876</td>\n",
       "      <td>101117.0573</td>\n",
       "      <td>153987.6449</td>\n",
       "      <td>0.343343</td>\n",
       "    </tr>\n",
       "    <tr>\n",
       "      <th>2016</th>\n",
       "      <td>56788.1784</td>\n",
       "      <td>103127.3650</td>\n",
       "      <td>159915.5434</td>\n",
       "      <td>0.355114</td>\n",
       "    </tr>\n",
       "    <tr>\n",
       "      <th>2017</th>\n",
       "      <td>52739.8635</td>\n",
       "      <td>105334.3207</td>\n",
       "      <td>158074.1842</td>\n",
       "      <td>0.333640</td>\n",
       "    </tr>\n",
       "    <tr>\n",
       "      <th>2018</th>\n",
       "      <td>62924.8836</td>\n",
       "      <td>108011.8541</td>\n",
       "      <td>170936.7377</td>\n",
       "      <td>0.368118</td>\n",
       "    </tr>\n",
       "  </tbody>\n",
       "</table>\n",
       "</div>"
      ],
      "text/plain": [
       "grouper      Brazil  rest_of_world      overall     share\n",
       "year                                                     \n",
       "1990     27285.6286     65944.4310   93230.0596  0.292670\n",
       "1991     27293.4934     73973.1910  101266.6844  0.269521\n",
       "1992     34603.3542     63922.5450   98525.8992  0.351211\n",
       "1993     28166.9786     63597.6430   91764.6216  0.306948\n",
       "1994     28192.0470     65121.1470   93313.1940  0.302123\n",
       "1995     18060.2022     69257.2560   87317.4582  0.206834\n",
       "1996     29196.7430     74105.8530  103302.5960  0.282633\n",
       "1997     26148.0040     73713.1950   99861.1990  0.261843\n",
       "1998     36760.8533     72131.3598  108892.2131  0.337589\n",
       "1999     47577.8065     83805.9902  131383.7967  0.362128\n",
       "2000     31310.3530     82456.6197  113766.9727  0.275215\n",
       "2001     31365.0955     76534.0309  107899.1264  0.290689\n",
       "2002     48351.6340     74264.1779  122615.8119  0.394334\n",
       "2003     28873.4093     76633.4004  105506.8097  0.273664\n",
       "2004     39281.1457     76784.6003  116065.7460  0.338439\n",
       "2005     32932.9797     78237.6566  111170.6363  0.296238\n",
       "2006     48431.7338     86958.9091  135390.6429  0.357718\n",
       "2007     38911.4571     82931.0027  121842.4598  0.319359\n",
       "2008     51490.5177     83309.1766  134799.6943  0.381978\n",
       "2009     43976.8120     83997.0027  127973.8147  0.343639\n",
       "2010     55428.4102     86589.1274  142017.5376  0.390293\n",
       "2011     48591.8289     93883.5588  142475.3877  0.341054\n",
       "2012     55418.0012     95866.5109  151284.5121  0.366316\n",
       "2013     54688.9664     99406.3484  154095.3148  0.354903\n",
       "2014     53304.7669     96448.2752  149753.0421  0.355951\n",
       "2015     52870.5876    101117.0573  153987.6449  0.343343\n",
       "2016     56788.1784    103127.3650  159915.5434  0.355114\n",
       "2017     52739.8635    105334.3207  158074.1842  0.333640\n",
       "2018     62924.8836    108011.8541  170936.7377  0.368118"
      ]
     },
     "execution_count": 169,
     "metadata": {},
     "output_type": "execute_result"
    }
   ],
   "source": [
    "brazil.pivot_table(index = \"year\",\n",
    "                            columns = \"grouper\",\n",
    "                            values = \"production\",\n",
    "                            aggfunc = \"sum\").assign(overall = lambda x: x[\"Brazil\"] + x[\"rest_of_world\"],\n",
    "                                                    share = lambda x: x[\"Brazil\"]/x[\"overall\"])"
   ]
  },
  {
   "cell_type": "code",
   "execution_count": null,
   "id": "41bd79d5",
   "metadata": {},
   "outputs": [
    {
     "data": {
      "text/plain": [
       "Text(0.5, 0, 'Brazil Production (Millions 60kg Bags)')"
      ]
     },
     "execution_count": 117,
     "metadata": {},
     "output_type": "execute_result"
    },
    {
     "data": {
      "image/png": "[encoded data removed]",
      "text/plain": [
       "<Figure size 640x480 with 1 Axes>"
      ]
     },
     "metadata": {},
     "output_type": "display_data"
    }
   ],
   "source": [
    "# Plot brazil versus venezuela over time\n",
    "y_label = \"Production (Millions 60kg Bags)\"\n",
    "\n",
    "fig, ax = plt.subplots()\n",
    "\n",
    "ax.scatter(coffee_t[\"Brazil\"], coffee_t[\"Venezuela\"])\n",
    "ax.set_ylabel(\"Venezuela \" + y_label)\n",
    "ax.set_xlabel(\"Brazil \" + y_label)\n",
    "ax.set_title(\"Venezuela Production Declines as Brazil Expands\")"
   ]
  },
  {
   "cell_type": "code",
   "execution_count": 120,
   "id": "6a29f973",
   "metadata": {},
   "outputs": [
    {
     "data": {
      "text/plain": [
       "Text(0.5, 1.0, 'Viet Nam and Brazil Trend Up Together')"
      ]
     },
     "execution_count": 120,
     "metadata": {},
     "output_type": "execute_result"
    },
    {
     "data": {
      "image/png": "[encoded data removed]",
      "text/plain": [
       "<Figure size 640x480 with 1 Axes>"
      ]
     },
     "metadata": {},
     "output_type": "display_data"
    }
   ],
   "source": [
    "# Plot brazil versus venezuela over time\n",
    "y_label = \"Production (Millions 60kg Bags)\"\n",
    "\n",
    "fig, ax = plt.subplots()\n",
    "\n",
    "ax.scatter(coffee_t[\"Brazil\"], coffee_t[\"Viet Nam\"])\n",
    "ax.set_ylabel(\"Viet Nam \" + y_label)\n",
    "ax.set_xlabel(\"Brazil \" + y_label)\n",
    "ax.set_title(\"Viet Nam and Brazil Trend Up Together\")"
   ]
  },
  {
   "cell_type": "code",
   "execution_count": 150,
   "id": "79d13c68",
   "metadata": {},
   "outputs": [],
   "source": [
    "# Create a pie graph with the top 5 produers and the \"rest of the world\"\n",
    "coffee_long[\"new_country\"] = coffee_long[\"country\"].apply(lambda x: x if x in top_5 else \"rest_of_world\")\n",
    "\n",
    "coffee_pie_top = (\n",
    "    coffee_long.loc[(coffee_long[\"year\"] == \"2018\") & (coffee_long[\"country\"].isin(top_5))]\n",
    "    .groupby(\"country\")\n",
    "    .agg(production = (\"production\", \"sum\"))\n",
    "    .sort_values(\n",
    "        by=\"production\",\n",
    "        ascending=False\n",
    "    )\n",
    ")\n",
    "\n",
    "coffee_pie_bottom = (\n",
    "    coffee_long.loc[(coffee_long[\"year\"] == \"2018\") & (~coffee_long[\"country\"].isin(top_5))]\n",
    "    .groupby(\"new_country\")\n",
    "    .agg(production = (\"production\", \"sum\"))\n",
    ")\n",
    "\n",
    "coffee_pie = pd.concat([coffee_pie_top, coffee_pie_bottom])"
   ]
  },
  {
   "cell_type": "code",
   "execution_count": 157,
   "id": "861a09a4",
   "metadata": {},
   "outputs": [
    {
     "data": {
      "text/plain": [
       "Text(0.5, 1.0, 'Share of Global Coffee Production 2018')"
      ]
     },
     "execution_count": 157,
     "metadata": {},
     "output_type": "execute_result"
    },
    {
     "data": {
      "image/png": "[encoded data removed]",
      "text/plain": [
       "<Figure size 640x480 with 1 Axes>"
      ]
     },
     "metadata": {},
     "output_type": "display_data"
    }
   ],
   "source": [
    "fig, ax = plt.subplots()\n",
    "\n",
    "ax.pie(\n",
    "    x=coffee_pie[\"production\"][::-1],\n",
    "    startangle=90,\n",
    "    labels=coffee_pie.index[::-1], \n",
    "    autopct=\"%.0f%%\",\n",
    ");\n",
    "ax.set_title(\"Share of Global Coffee Production 2018\")"
   ]
  },
  {
   "cell_type": "markdown",
   "id": "bc70ec0b",
   "metadata": {},
   "source": [
    "### Coffee Consumption Vs. Prices"
   ]
  },
  {
   "cell_type": "code",
   "execution_count": 170,
   "id": "58a52822",
   "metadata": {},
   "outputs": [
    {
     "data": {
      "application/vnd.microsoft.datawrangler.viewer.v0+json": {
       "columns": [
        {
         "name": "index",
         "rawType": "int64",
         "type": "integer"
        },
        {
         "name": "imports",
         "rawType": "object",
         "type": "string"
        },
        {
         "name": "1990",
         "rawType": "float64",
         "type": "float"
        },
        {
         "name": "1991",
         "rawType": "float64",
         "type": "float"
        },
        {
         "name": "1992",
         "rawType": "float64",
         "type": "float"
        },
        {
         "name": "1993",
         "rawType": "float64",
         "type": "float"
        },
        {
         "name": "1994",
         "rawType": "float64",
         "type": "float"
        },
        {
         "name": "1995",
         "rawType": "float64",
         "type": "float"
        },
        {
         "name": "1996",
         "rawType": "float64",
         "type": "float"
        },
        {
         "name": "1997",
         "rawType": "float64",
         "type": "float"
        },
        {
         "name": "1998",
         "rawType": "float64",
         "type": "float"
        },
        {
         "name": "1999",
         "rawType": "float64",
         "type": "float"
        },
        {
         "name": "2000",
         "rawType": "float64",
         "type": "float"
        },
        {
         "name": "2001",
         "rawType": "float64",
         "type": "float"
        },
        {
         "name": "2002",
         "rawType": "float64",
         "type": "float"
        },
        {
         "name": "2003",
         "rawType": "float64",
         "type": "float"
        },
        {
         "name": "2004",
         "rawType": "float64",
         "type": "float"
        },
        {
         "name": "2005",
         "rawType": "float64",
         "type": "float"
        },
        {
         "name": "2006",
         "rawType": "float64",
         "type": "float"
        },
        {
         "name": "2007",
         "rawType": "float64",
         "type": "float"
        },
        {
         "name": "2008",
         "rawType": "float64",
         "type": "float"
        },
        {
         "name": "2009",
         "rawType": "float64",
         "type": "float"
        },
        {
         "name": "2010",
         "rawType": "float64",
         "type": "float"
        },
        {
         "name": "2011",
         "rawType": "float64",
         "type": "float"
        },
        {
         "name": "2012",
         "rawType": "float64",
         "type": "float"
        },
        {
         "name": "2013",
         "rawType": "float64",
         "type": "float"
        },
        {
         "name": "2014",
         "rawType": "float64",
         "type": "float"
        },
        {
         "name": "2015",
         "rawType": "float64",
         "type": "float"
        },
        {
         "name": "2016",
         "rawType": "float64",
         "type": "float"
        },
        {
         "name": "2017",
         "rawType": "float64",
         "type": "float"
        },
        {
         "name": "2018",
         "rawType": "float64",
         "type": "float"
        }
       ],
       "conversionMethod": "pd.DataFrame",
       "ref": "f44aa171-1ac7-4720-b5cd-af4f4e042ed2",
       "rows": [
        [
         "0",
         "   Austria",
         "1880.0",
         "2058.0",
         "2206.0",
         "1836.0",
         "1417.0",
         "1231.0",
         "1210.0",
         "1294.0",
         "1293.0",
         "1500.0",
         "1257.0",
         "1432.0",
         "1447.0",
         "1336.0",
         "1538.0",
         "1577.0",
         "1601.0",
         "1968.0",
         "1901.0",
         "1309.0",
         "1369.0",
         "1452.0",
         "1559.0",
         "1555.0",
         null,
         null,
         null,
         null,
         null
        ],
        [
         "1",
         "   Belgium",
         null,
         null,
         null,
         null,
         null,
         null,
         null,
         null,
         null,
         "3003.0",
         "3491.0",
         "3209.0",
         "3792.0",
         "3818.0",
         "3968.0",
         "4063.0",
         "4605.0",
         "4014.0",
         "6792.0",
         "5916.0",
         "5924.0",
         "5828.0",
         "5668.0",
         "5502.0",
         null,
         null,
         null,
         null,
         null
        ],
        [
         "2",
         "   Belgium/Luxembourg",
         "2015.0",
         "1746.0",
         "1828.0",
         "2063.0",
         "2262.0",
         "2401.0",
         "2526.0",
         "2544.0",
         "3580.0",
         null,
         null,
         null,
         null,
         null,
         null,
         null,
         null,
         null,
         null,
         null,
         null,
         null,
         null,
         null,
         null,
         null,
         null,
         null,
         null
        ],
        [
         "3",
         "   Bulgaria",
         "268.0",
         "200.0",
         "182.0",
         "397.0",
         "463.0",
         "515.0",
         "272.0",
         "294.0",
         "342.0",
         "367.0",
         "281.0",
         "355.0",
         "343.0",
         "400.0",
         "367.0",
         "441.0",
         "435.0",
         "393.0",
         "517.0",
         "523.0",
         "528.0",
         "482.0",
         "560.0",
         "609.0",
         null,
         null,
         null,
         null,
         null
        ],
        [
         "4",
         "   Croatia",
         null,
         null,
         "168.0",
         "163.0",
         "193.0",
         "320.0",
         "322.0",
         "385.0",
         "339.0",
         "352.0",
         "344.0",
         "352.0",
         "371.0",
         "393.0",
         "388.0",
         "392.0",
         "404.0",
         "414.0",
         "405.0",
         "394.0",
         "394.0",
         "391.0",
         "384.0",
         "413.0",
         null,
         null,
         null,
         null,
         null
        ]
       ],
       "shape": {
        "columns": 30,
        "rows": 5
       }
      },
      "text/html": [
       "<div>\n",
       "<style scoped>\n",
       "    .dataframe tbody tr th:only-of-type {\n",
       "        vertical-align: middle;\n",
       "    }\n",
       "\n",
       "    .dataframe tbody tr th {\n",
       "        vertical-align: top;\n",
       "    }\n",
       "\n",
       "    .dataframe thead th {\n",
       "        text-align: right;\n",
       "    }\n",
       "</style>\n",
       "<table border=\"1\" class=\"dataframe\">\n",
       "  <thead>\n",
       "    <tr style=\"text-align: right;\">\n",
       "      <th></th>\n",
       "      <th>imports</th>\n",
       "      <th>1990</th>\n",
       "      <th>1991</th>\n",
       "      <th>1992</th>\n",
       "      <th>1993</th>\n",
       "      <th>1994</th>\n",
       "      <th>1995</th>\n",
       "      <th>1996</th>\n",
       "      <th>1997</th>\n",
       "      <th>1998</th>\n",
       "      <th>...</th>\n",
       "      <th>2009</th>\n",
       "      <th>2010</th>\n",
       "      <th>2011</th>\n",
       "      <th>2012</th>\n",
       "      <th>2013</th>\n",
       "      <th>2014</th>\n",
       "      <th>2015</th>\n",
       "      <th>2016</th>\n",
       "      <th>2017</th>\n",
       "      <th>2018</th>\n",
       "    </tr>\n",
       "  </thead>\n",
       "  <tbody>\n",
       "    <tr>\n",
       "      <th>0</th>\n",
       "      <td>Austria</td>\n",
       "      <td>1880.0</td>\n",
       "      <td>2058.0</td>\n",
       "      <td>2206.0</td>\n",
       "      <td>1836.0</td>\n",
       "      <td>1417.0</td>\n",
       "      <td>1231.0</td>\n",
       "      <td>1210.0</td>\n",
       "      <td>1294.0</td>\n",
       "      <td>1293.0</td>\n",
       "      <td>...</td>\n",
       "      <td>1309.0</td>\n",
       "      <td>1369.0</td>\n",
       "      <td>1452.0</td>\n",
       "      <td>1559.0</td>\n",
       "      <td>1555.0</td>\n",
       "      <td>NaN</td>\n",
       "      <td>NaN</td>\n",
       "      <td>NaN</td>\n",
       "      <td>NaN</td>\n",
       "      <td>NaN</td>\n",
       "    </tr>\n",
       "    <tr>\n",
       "      <th>1</th>\n",
       "      <td>Belgium</td>\n",
       "      <td>NaN</td>\n",
       "      <td>NaN</td>\n",
       "      <td>NaN</td>\n",
       "      <td>NaN</td>\n",
       "      <td>NaN</td>\n",
       "      <td>NaN</td>\n",
       "      <td>NaN</td>\n",
       "      <td>NaN</td>\n",
       "      <td>NaN</td>\n",
       "      <td>...</td>\n",
       "      <td>5916.0</td>\n",
       "      <td>5924.0</td>\n",
       "      <td>5828.0</td>\n",
       "      <td>5668.0</td>\n",
       "      <td>5502.0</td>\n",
       "      <td>NaN</td>\n",
       "      <td>NaN</td>\n",
       "      <td>NaN</td>\n",
       "      <td>NaN</td>\n",
       "      <td>NaN</td>\n",
       "    </tr>\n",
       "    <tr>\n",
       "      <th>2</th>\n",
       "      <td>Belgium/Luxembourg</td>\n",
       "      <td>2015.0</td>\n",
       "      <td>1746.0</td>\n",
       "      <td>1828.0</td>\n",
       "      <td>2063.0</td>\n",
       "      <td>2262.0</td>\n",
       "      <td>2401.0</td>\n",
       "      <td>2526.0</td>\n",
       "      <td>2544.0</td>\n",
       "      <td>3580.0</td>\n",
       "      <td>...</td>\n",
       "      <td>NaN</td>\n",
       "      <td>NaN</td>\n",
       "      <td>NaN</td>\n",
       "      <td>NaN</td>\n",
       "      <td>NaN</td>\n",
       "      <td>NaN</td>\n",
       "      <td>NaN</td>\n",
       "      <td>NaN</td>\n",
       "      <td>NaN</td>\n",
       "      <td>NaN</td>\n",
       "    </tr>\n",
       "    <tr>\n",
       "      <th>3</th>\n",
       "      <td>Bulgaria</td>\n",
       "      <td>268.0</td>\n",
       "      <td>200.0</td>\n",
       "      <td>182.0</td>\n",
       "      <td>397.0</td>\n",
       "      <td>463.0</td>\n",
       "      <td>515.0</td>\n",
       "      <td>272.0</td>\n",
       "      <td>294.0</td>\n",
       "      <td>342.0</td>\n",
       "      <td>...</td>\n",
       "      <td>523.0</td>\n",
       "      <td>528.0</td>\n",
       "      <td>482.0</td>\n",
       "      <td>560.0</td>\n",
       "      <td>609.0</td>\n",
       "      <td>NaN</td>\n",
       "      <td>NaN</td>\n",
       "      <td>NaN</td>\n",
       "      <td>NaN</td>\n",
       "      <td>NaN</td>\n",
       "    </tr>\n",
       "    <tr>\n",
       "      <th>4</th>\n",
       "      <td>Croatia</td>\n",
       "      <td>NaN</td>\n",
       "      <td>NaN</td>\n",
       "      <td>168.0</td>\n",
       "      <td>163.0</td>\n",
       "      <td>193.0</td>\n",
       "      <td>320.0</td>\n",
       "      <td>322.0</td>\n",
       "      <td>385.0</td>\n",
       "      <td>339.0</td>\n",
       "      <td>...</td>\n",
       "      <td>394.0</td>\n",
       "      <td>394.0</td>\n",
       "      <td>391.0</td>\n",
       "      <td>384.0</td>\n",
       "      <td>413.0</td>\n",
       "      <td>NaN</td>\n",
       "      <td>NaN</td>\n",
       "      <td>NaN</td>\n",
       "      <td>NaN</td>\n",
       "      <td>NaN</td>\n",
       "    </tr>\n",
       "  </tbody>\n",
       "</table>\n",
       "<p>5 rows × 30 columns</p>\n",
       "</div>"
      ],
      "text/plain": [
       "                 imports    1990    1991    1992    1993    1994    1995  \\\n",
       "0                Austria  1880.0  2058.0  2206.0  1836.0  1417.0  1231.0   \n",
       "1                Belgium     NaN     NaN     NaN     NaN     NaN     NaN   \n",
       "2     Belgium/Luxembourg  2015.0  1746.0  1828.0  2063.0  2262.0  2401.0   \n",
       "3               Bulgaria   268.0   200.0   182.0   397.0   463.0   515.0   \n",
       "4                Croatia     NaN     NaN   168.0   163.0   193.0   320.0   \n",
       "\n",
       "     1996    1997    1998  ...    2009    2010    2011    2012    2013  2014  \\\n",
       "0  1210.0  1294.0  1293.0  ...  1309.0  1369.0  1452.0  1559.0  1555.0   NaN   \n",
       "1     NaN     NaN     NaN  ...  5916.0  5924.0  5828.0  5668.0  5502.0   NaN   \n",
       "2  2526.0  2544.0  3580.0  ...     NaN     NaN     NaN     NaN     NaN   NaN   \n",
       "3   272.0   294.0   342.0  ...   523.0   528.0   482.0   560.0   609.0   NaN   \n",
       "4   322.0   385.0   339.0  ...   394.0   394.0   391.0   384.0   413.0   NaN   \n",
       "\n",
       "   2015  2016  2017  2018  \n",
       "0   NaN   NaN   NaN   NaN  \n",
       "1   NaN   NaN   NaN   NaN  \n",
       "2   NaN   NaN   NaN   NaN  \n",
       "3   NaN   NaN   NaN   NaN  \n",
       "4   NaN   NaN   NaN   NaN  \n",
       "\n",
       "[5 rows x 30 columns]"
      ]
     },
     "execution_count": 170,
     "metadata": {},
     "output_type": "execute_result"
    }
   ],
   "source": [
    "imports = pd.read_csv(\"../Data/coffee/imports.csv\")\n",
    "imports.head()"
   ]
  },
  {
   "cell_type": "code",
   "execution_count": 281,
   "id": "739aa888",
   "metadata": {},
   "outputs": [],
   "source": [
    "# Reshape cols are the same\n",
    "imports_long = pd.melt(imports,\n",
    "                      id_vars = [\"imports\"],\n",
    "                      value_vars = reshape_cols,\n",
    "                      var_name = \"year\", \n",
    "                      value_name = \"consumption\").sort_values([\"imports\", \"year\"])\n",
    "\n",
    "coffee_consumpt = (\n",
    "    imports_long\n",
    "    .groupby(\"imports\")\n",
    "    .agg({\"consumption\":\"mean\"})\n",
    "    .reset_index()\n",
    "    .rename(columns = {\"imports\": \"country\"})\n",
    ")\n",
    "\n",
    "# Can also do this by not reshaping\n",
    "imports_wide = pd.read_csv(\"../Data/coffee/imports.csv\").set_index(\"imports\").mean(axis = 1)"
   ]
  },
  {
   "cell_type": "code",
   "execution_count": 282,
   "id": "9fab02c9",
   "metadata": {},
   "outputs": [
    {
     "data": {
      "application/vnd.microsoft.datawrangler.viewer.v0+json": {
       "columns": [
        {
         "name": "index",
         "rawType": "int64",
         "type": "integer"
        },
        {
         "name": "country",
         "rawType": "object",
         "type": "string"
        },
        {
         "name": "price",
         "rawType": "float64",
         "type": "float"
        },
        {
         "name": "consumption",
         "rawType": "float64",
         "type": "float"
        }
       ],
       "conversionMethod": "pd.DataFrame",
       "ref": "9c76b58e-b7d6-47f9-9e34-c2d6d36cb0de",
       "rows": [
        [
         "5",
         "   Germany",
         "9.515109994671535",
         "16357.666666666666"
        ],
        [
         "11",
         "Japan",
         "21.47293902717515",
         "6862.275235286207"
        ],
        [
         "6",
         "   Italy",
         "14.199588947248229",
         "6696.958333333333"
        ],
        [
         "4",
         "   France",
         "6.850879196163506",
         "6512.458333333333"
        ],
        [
         "9",
         "   Spain",
         "8.029991626703204",
         "4046.2916666666665"
        ],
        [
         "7",
         "   Netherlands",
         "8.931262845398491",
         "2928.125"
        ],
        [
         "10",
         "   Sweden",
         "8.054350308289562",
         "1620.625"
        ],
        [
         "0",
         "   Austria",
         "11.571134962320162",
         "1551.0833333333333"
        ],
        [
         "3",
         "   Finland",
         "7.211692167161451",
         "1157.5416666666667"
        ],
        [
         "2",
         "   Denmark",
         "10.494024510923344",
         "991.7916666666666"
        ],
        [
         "8",
         "   Portugal",
         "10.921062647484202",
         "810.7916666666666"
        ],
        [
         "12",
         "Norway",
         "9.40930197153079",
         "739.7703593793104"
        ],
        [
         "1",
         "   Cyprus",
         "10.437695059754889",
         "63.791666666666664"
        ]
       ],
       "shape": {
        "columns": 3,
        "rows": 13
       }
      },
      "text/html": [
       "<div>\n",
       "<style scoped>\n",
       "    .dataframe tbody tr th:only-of-type {\n",
       "        vertical-align: middle;\n",
       "    }\n",
       "\n",
       "    .dataframe tbody tr th {\n",
       "        vertical-align: top;\n",
       "    }\n",
       "\n",
       "    .dataframe thead th {\n",
       "        text-align: right;\n",
       "    }\n",
       "</style>\n",
       "<table border=\"1\" class=\"dataframe\">\n",
       "  <thead>\n",
       "    <tr style=\"text-align: right;\">\n",
       "      <th></th>\n",
       "      <th>country</th>\n",
       "      <th>price</th>\n",
       "      <th>consumption</th>\n",
       "    </tr>\n",
       "  </thead>\n",
       "  <tbody>\n",
       "    <tr>\n",
       "      <th>5</th>\n",
       "      <td>Germany</td>\n",
       "      <td>9.515110</td>\n",
       "      <td>16357.666667</td>\n",
       "    </tr>\n",
       "    <tr>\n",
       "      <th>11</th>\n",
       "      <td>Japan</td>\n",
       "      <td>21.472939</td>\n",
       "      <td>6862.275235</td>\n",
       "    </tr>\n",
       "    <tr>\n",
       "      <th>6</th>\n",
       "      <td>Italy</td>\n",
       "      <td>14.199589</td>\n",
       "      <td>6696.958333</td>\n",
       "    </tr>\n",
       "    <tr>\n",
       "      <th>4</th>\n",
       "      <td>France</td>\n",
       "      <td>6.850879</td>\n",
       "      <td>6512.458333</td>\n",
       "    </tr>\n",
       "    <tr>\n",
       "      <th>9</th>\n",
       "      <td>Spain</td>\n",
       "      <td>8.029992</td>\n",
       "      <td>4046.291667</td>\n",
       "    </tr>\n",
       "    <tr>\n",
       "      <th>7</th>\n",
       "      <td>Netherlands</td>\n",
       "      <td>8.931263</td>\n",
       "      <td>2928.125000</td>\n",
       "    </tr>\n",
       "    <tr>\n",
       "      <th>10</th>\n",
       "      <td>Sweden</td>\n",
       "      <td>8.054350</td>\n",
       "      <td>1620.625000</td>\n",
       "    </tr>\n",
       "    <tr>\n",
       "      <th>0</th>\n",
       "      <td>Austria</td>\n",
       "      <td>11.571135</td>\n",
       "      <td>1551.083333</td>\n",
       "    </tr>\n",
       "    <tr>\n",
       "      <th>3</th>\n",
       "      <td>Finland</td>\n",
       "      <td>7.211692</td>\n",
       "      <td>1157.541667</td>\n",
       "    </tr>\n",
       "    <tr>\n",
       "      <th>2</th>\n",
       "      <td>Denmark</td>\n",
       "      <td>10.494025</td>\n",
       "      <td>991.791667</td>\n",
       "    </tr>\n",
       "    <tr>\n",
       "      <th>8</th>\n",
       "      <td>Portugal</td>\n",
       "      <td>10.921063</td>\n",
       "      <td>810.791667</td>\n",
       "    </tr>\n",
       "    <tr>\n",
       "      <th>12</th>\n",
       "      <td>Norway</td>\n",
       "      <td>9.409302</td>\n",
       "      <td>739.770359</td>\n",
       "    </tr>\n",
       "    <tr>\n",
       "      <th>1</th>\n",
       "      <td>Cyprus</td>\n",
       "      <td>10.437695</td>\n",
       "      <td>63.791667</td>\n",
       "    </tr>\n",
       "  </tbody>\n",
       "</table>\n",
       "</div>"
      ],
      "text/plain": [
       "           country      price   consumption\n",
       "5          Germany   9.515110  16357.666667\n",
       "11           Japan  21.472939   6862.275235\n",
       "6            Italy  14.199589   6696.958333\n",
       "4           France   6.850879   6512.458333\n",
       "9            Spain   8.029992   4046.291667\n",
       "7      Netherlands   8.931263   2928.125000\n",
       "10          Sweden   8.054350   1620.625000\n",
       "0          Austria  11.571135   1551.083333\n",
       "3          Finland   7.211692   1157.541667\n",
       "2          Denmark  10.494025    991.791667\n",
       "8         Portugal  10.921063    810.791667\n",
       "12          Norway   9.409302    739.770359\n",
       "1           Cyprus  10.437695     63.791667"
      ]
     },
     "execution_count": 282,
     "metadata": {},
     "output_type": "execute_result"
    }
   ],
   "source": [
    "prices = pd.read_csv(\"../Data/coffee/retail-prices.csv\")\n",
    "\n",
    "coffee_prices = pd.melt(prices,\n",
    "                        id_vars = \"retail_prices\",\n",
    "                        value_vars = reshape_cols,\n",
    "                        var_name = \"year\",\n",
    "                        value_name = \"prices\")\n",
    "\n",
    "coffee_prices = (\n",
    "    coffee_prices\n",
    "    .groupby(\"retail_prices\")\n",
    "    .agg(price = (\"prices\", \"mean\"))\n",
    "    .reset_index()\n",
    "    .rename(columns = {\"retail_prices\": \"country\"})\n",
    ")\n",
    "#coffee_prices\n",
    "\n",
    "# Join with the consumption data set, using the prices as the base (14 rows)\n",
    "\n",
    "price_cons = (\n",
    "    coffee_prices\n",
    "    .merge(coffee_consumpt, \n",
    "           how = \"inner\", \n",
    "           left_on = \"country\", \n",
    "           right_on = \"country\")\n",
    "    .sort_values(\"consumption\", ascending=False)\n",
    ")\n",
    "price_cons"
   ]
  },
  {
   "cell_type": "code",
   "execution_count": null,
   "id": "a5e3da9a",
   "metadata": {},
   "outputs": [
    {
     "data": {
      "image/png": "[encoded data removed]",
      "text/plain": [
       "<Figure size 1400x600 with 2 Axes>"
      ]
     },
     "metadata": {},
     "output_type": "display_data"
    }
   ],
   "source": [
    "# Create a dodged bar graph with the price and consumption\n",
    "price_cntry_list = price_cons[\"country\"]\n",
    "\n",
    "fig, ax = plt.subplots(figsize = (14, 6))\n",
    "\n",
    "x = np.arange(0, len(price_cons))\n",
    "width = 0.35\n",
    "\n",
    "ax.bar(x - width/2, price_cons[\"consumption\"], width = width, label = \"Consumption\")\n",
    "\n",
    "ax2 = ax.twinx()\n",
    "ax2.bar(x + width/2, price_cons[\"price\"], width = width, label = \"Price\", color = \"orange\")\n",
    "\n",
    "ax.set_title(\"Price Paid Vs. Consumption of Select Importing Nations\")\n",
    "ax.set_ylabel(\"Consumption \"+ y_label)\n",
    "ax2.set_ylabel(\"Average Price Paid Per Bag (USD)\")\n",
    "\n",
    "fig.legend(bbox_to_anchor=(.89, .89), frameon = False)\n",
    "# fig.suptitle(\"Nights Booked vs. Cancellations\", fontsize = 16, y = .92)\n",
    "\n",
    "plt.xticks(range(len(price_cons)), price_cntry_list, fontsize=4);"
   ]
  },
  {
   "cell_type": "code",
   "execution_count": null,
   "id": "bb077de2",
   "metadata": {},
   "outputs": [
    {
     "data": {
      "text/plain": [
       "5            Germany\n",
       "11             Japan\n",
       "6              Italy\n",
       "4             France\n",
       "9              Spain\n",
       "7        Netherlands\n",
       "10            Sweden\n",
       "0            Austria\n",
       "3            Finland\n",
       "2            Denmark\n",
       "8           Portugal\n",
       "12            Norway\n",
       "1             Cyprus\n",
       "Name: country, dtype: object"
      ]
     },
     "execution_count": 209,
     "metadata": {},
     "output_type": "execute_result"
    }
   ],
   "source": [
    "price_cons[\"country\"]"
   ]
  },
  {
   "cell_type": "markdown",
   "id": "563b8e9b",
   "metadata": {},
   "source": [
    "## Solution"
   ]
  },
  {
   "cell_type": "code",
   "execution_count": 228,
   "id": "41086797",
   "metadata": {},
   "outputs": [
    {
     "data": {
      "application/vnd.microsoft.datawrangler.viewer.v0+json": {
       "columns": [
        {
         "name": "index",
         "rawType": "object",
         "type": "string"
        },
        {
         "name": "Angola",
         "rawType": "object",
         "type": "unknown"
        },
        {
         "name": "Bolivia (Plurinational State of)",
         "rawType": "object",
         "type": "unknown"
        },
        {
         "name": "Brazil",
         "rawType": "object",
         "type": "unknown"
        },
        {
         "name": "Burundi",
         "rawType": "object",
         "type": "unknown"
        },
        {
         "name": "Ecuador",
         "rawType": "object",
         "type": "unknown"
        },
        {
         "name": "Indonesia",
         "rawType": "object",
         "type": "unknown"
        },
        {
         "name": "Madagascar",
         "rawType": "object",
         "type": "unknown"
        },
        {
         "name": "Malawi",
         "rawType": "object",
         "type": "unknown"
        },
        {
         "name": "Papua New Guinea",
         "rawType": "object",
         "type": "unknown"
        },
        {
         "name": "Paraguay",
         "rawType": "object",
         "type": "unknown"
        },
        {
         "name": "Peru",
         "rawType": "object",
         "type": "unknown"
        },
        {
         "name": "Rwanda",
         "rawType": "object",
         "type": "unknown"
        },
        {
         "name": "Timor-Leste",
         "rawType": "object",
         "type": "unknown"
        },
        {
         "name": "Zimbabwe",
         "rawType": "object",
         "type": "unknown"
        },
        {
         "name": "Congo",
         "rawType": "object",
         "type": "unknown"
        },
        {
         "name": "Cuba",
         "rawType": "object",
         "type": "unknown"
        },
        {
         "name": "Dominican Republic",
         "rawType": "object",
         "type": "unknown"
        },
        {
         "name": "Haiti",
         "rawType": "object",
         "type": "unknown"
        },
        {
         "name": "Philippines",
         "rawType": "object",
         "type": "unknown"
        },
        {
         "name": "Tanzania",
         "rawType": "object",
         "type": "unknown"
        },
        {
         "name": "Zambia",
         "rawType": "object",
         "type": "unknown"
        },
        {
         "name": "Benin",
         "rawType": "object",
         "type": "unknown"
        },
        {
         "name": "Cameroon",
         "rawType": "object",
         "type": "unknown"
        },
        {
         "name": "Central African Republic",
         "rawType": "object",
         "type": "unknown"
        },
        {
         "name": "Colombia",
         "rawType": "object",
         "type": "unknown"
        },
        {
         "name": "Costa Rica",
         "rawType": "object",
         "type": "unknown"
        },
        {
         "name": "Côte d'Ivoire",
         "rawType": "object",
         "type": "unknown"
        },
        {
         "name": "Democratic Republic of Congo",
         "rawType": "object",
         "type": "unknown"
        },
        {
         "name": "El Salvador",
         "rawType": "object",
         "type": "unknown"
        },
        {
         "name": "Equatorial Guinea",
         "rawType": "object",
         "type": "unknown"
        },
        {
         "name": "Ethiopia",
         "rawType": "object",
         "type": "unknown"
        },
        {
         "name": "Gabon",
         "rawType": "object",
         "type": "unknown"
        },
        {
         "name": "Ghana",
         "rawType": "object",
         "type": "unknown"
        },
        {
         "name": "Guatemala",
         "rawType": "object",
         "type": "unknown"
        },
        {
         "name": "Guinea",
         "rawType": "object",
         "type": "unknown"
        },
        {
         "name": "Guyana",
         "rawType": "object",
         "type": "unknown"
        },
        {
         "name": "Honduras",
         "rawType": "object",
         "type": "unknown"
        },
        {
         "name": "India",
         "rawType": "object",
         "type": "unknown"
        },
        {
         "name": "Jamaica",
         "rawType": "object",
         "type": "unknown"
        },
        {
         "name": "Kenya",
         "rawType": "object",
         "type": "unknown"
        },
        {
         "name": "Lao People's Democratic Republic",
         "rawType": "object",
         "type": "unknown"
        },
        {
         "name": "Liberia",
         "rawType": "object",
         "type": "unknown"
        },
        {
         "name": "Mexico",
         "rawType": "object",
         "type": "unknown"
        },
        {
         "name": "Nepal",
         "rawType": "object",
         "type": "unknown"
        },
        {
         "name": "Nicaragua",
         "rawType": "object",
         "type": "unknown"
        },
        {
         "name": "Nigeria",
         "rawType": "object",
         "type": "unknown"
        },
        {
         "name": "Panama",
         "rawType": "object",
         "type": "unknown"
        },
        {
         "name": "Sierra Leone",
         "rawType": "object",
         "type": "unknown"
        },
        {
         "name": "Sri Lanka",
         "rawType": "object",
         "type": "unknown"
        },
        {
         "name": "Thailand",
         "rawType": "object",
         "type": "unknown"
        },
        {
         "name": "Togo",
         "rawType": "object",
         "type": "unknown"
        },
        {
         "name": "Trinidad & Tobago",
         "rawType": "object",
         "type": "unknown"
        },
        {
         "name": "Uganda",
         "rawType": "object",
         "type": "unknown"
        },
        {
         "name": "Venezuela",
         "rawType": "object",
         "type": "unknown"
        },
        {
         "name": "Viet Nam",
         "rawType": "object",
         "type": "unknown"
        },
        {
         "name": "Yemen",
         "rawType": "object",
         "type": "unknown"
        }
       ],
       "conversionMethod": "pd.DataFrame",
       "ref": "77bea6dc-560c-4cda-b6a9-ecabf06e5041",
       "rows": [
        [
         "1990",
         "50.345",
         "122.777",
         "27285.6286",
         "487.393",
         "1503.815",
         "7441.383",
         "982.447",
         "104.628",
         "962.841",
         "130.627",
         "936.632",
         "534.875",
         "0.0",
         "251.901",
         "2.924",
         "414.212",
         "880.062",
         "392.88",
         "973.632",
         "931.779",
         "22.686",
         "0.0",
         "1682.484",
         "175.274",
         "14396.0",
         "2561.885",
         "2940.363",
         "1580.296",
         "2464.864",
         "3.536",
         "2909.451",
         "3.408",
         "37.855",
         "3270.529",
         "44.46",
         "0.0",
         "1567.958",
         "2828.687",
         "22.574",
         "1485.135",
         "0.0",
         "3.0",
         "4674.245",
         "0.0",
         "461.078",
         "29.19",
         "214.987",
         "42.783",
         "95.87",
         "757.017",
         "161.308",
         "14.581",
         "1955.009",
         "1122.477",
         "1310.288",
         "0.0"
        ],
        [
         "1991",
         "79.331",
         "103.536",
         "27293.4934",
         "667.199",
         "2123.824",
         "8493.196",
         "932.513",
         "124.286",
         "746.816",
         "79.653",
         "1200.474",
         "483.83",
         "0.0",
         "201.394",
         "3.003",
         "302.097",
         "320.56",
         "463.352",
         "1018.482",
         "789.977",
         "29.138",
         "0.0",
         "1725.948",
         "124.781",
         "17980.397",
         "2759.619",
         "4129.295",
         "1229.902",
         "2197.692",
         "2.551",
         "2924.664",
         "1.752",
         "76.306",
         "3496.531",
         "90.522",
         "0.0",
         "2321.808",
         "2999.749",
         "38.987",
         "1514.047",
         "0.0",
         "3.0",
         "4727.206",
         "0.0",
         "707.067",
         "44.313",
         "192.532",
         "54.379",
         "81.549",
         "1468.936",
         "432.652",
         "17.792",
         "2088.001",
         "940.704",
         "1437.848",
         "0.0"
        ],
        [
         "1992",
         "77.52",
         "120.235",
         "34603.3542",
         "620.238",
         "1185.48",
         "5569.478",
         "1121.684",
         "137.161",
         "900.111",
         "54.291",
         "1761.953",
         "638.875",
         "0.0",
         "77.824",
         "3.171",
         "284.237",
         "637.815",
         "499.855",
         "919.851",
         "786.434",
         "29.307",
         "1.805",
         "260.376",
         "133.845",
         "14946.878",
         "2997.974",
         "2245.536",
         "1180.157",
         "3001.301",
         "1.686",
         "1825.171",
         "3.063",
         "36.602",
         "4318.483",
         "76.341",
         "0.0",
         "1918.209",
         "2823.497",
         "25.583",
         "1315.548",
         "0.0",
         "3.0",
         "3400.811",
         "0.0",
         "547.294",
         "48.882",
         "196.978",
         "39.084",
         "53.181",
         "1254.945",
         "85.648",
         "14.328",
         "2185.074",
         "1215.298",
         "2340.447",
         "0.0"
        ],
        [
         "1993",
         "32.608",
         "50.823",
         "28166.9786",
         "393.354",
         "2069.007",
         "6743.288",
         "441.859",
         "62.111",
         "1019.481",
         "70.046",
         "665.497",
         "443.625",
         "0.0",
         "11.6",
         "3.0",
         "285.404",
         "603.944",
         "450.697",
         "874.855",
         "734.375",
         "26.606",
         "0.05",
         "682.913",
         "165.574",
         "11422.422",
         "2358.753",
         "2293.407",
         "980.261",
         "2378.482",
         "0.0",
         "2967.004",
         "2.884",
         "45.381",
         "3535.501",
         "63.806",
         "0.0",
         "1829.179",
         "3533.181",
         "34.287",
         "1328.112",
         "0.0",
         "5.0",
         "5023.488",
         "0.0",
         "706.13",
         "45.319",
         "142.066",
         "37.451",
         "53.79",
         "1275.201",
         "194.939",
         "16.079",
         "3141.706",
         "1332.881",
         "3020.216",
         "0.0"
        ],
        [
         "1994",
         "76.802",
         "116.944",
         "28192.047",
         "664.143",
         "2375.766",
         "5367.878",
         "641.372",
         "84.112",
         "1138.659",
         "24.689",
         "1178.628",
         "22.449",
         "0.0",
         "106.302",
         "7.585",
         "284.315",
         "729.67",
         "450.246",
         "876.764",
         "679.024",
         "21.455",
         "0.0",
         "405.557",
         "249.512",
         "12964.0",
         "2481.942",
         "3006.444",
         "1297.805",
         "2293.468",
         "3.193",
         "2762.73",
         "7.701",
         "57.176",
         "3787.336",
         "198.357",
         "0.0",
         "2180.73",
         "3001.564",
         "44.598",
         "1663.131",
         "0.0",
         "5.0",
         "4158.777",
         "0.0",
         "682.969",
         "51.631",
         "248.313",
         "72.738",
         "42.448",
         "1399.135",
         "176.296",
         "18.435",
         "2392.753",
         "988.996",
         "3631.609",
         "0.0"
        ]
       ],
       "shape": {
        "columns": 56,
        "rows": 5
       }
      },
      "text/html": [
       "<div>\n",
       "<style scoped>\n",
       "    .dataframe tbody tr th:only-of-type {\n",
       "        vertical-align: middle;\n",
       "    }\n",
       "\n",
       "    .dataframe tbody tr th {\n",
       "        vertical-align: top;\n",
       "    }\n",
       "\n",
       "    .dataframe thead th {\n",
       "        text-align: right;\n",
       "    }\n",
       "</style>\n",
       "<table border=\"1\" class=\"dataframe\">\n",
       "  <thead>\n",
       "    <tr style=\"text-align: right;\">\n",
       "      <th>total_production</th>\n",
       "      <th>Angola</th>\n",
       "      <th>Bolivia (Plurinational State of)</th>\n",
       "      <th>Brazil</th>\n",
       "      <th>Burundi</th>\n",
       "      <th>Ecuador</th>\n",
       "      <th>Indonesia</th>\n",
       "      <th>Madagascar</th>\n",
       "      <th>Malawi</th>\n",
       "      <th>Papua New Guinea</th>\n",
       "      <th>Paraguay</th>\n",
       "      <th>...</th>\n",
       "      <th>Panama</th>\n",
       "      <th>Sierra Leone</th>\n",
       "      <th>Sri Lanka</th>\n",
       "      <th>Thailand</th>\n",
       "      <th>Togo</th>\n",
       "      <th>Trinidad &amp; Tobago</th>\n",
       "      <th>Uganda</th>\n",
       "      <th>Venezuela</th>\n",
       "      <th>Viet Nam</th>\n",
       "      <th>Yemen</th>\n",
       "    </tr>\n",
       "  </thead>\n",
       "  <tbody>\n",
       "    <tr>\n",
       "      <th>1990</th>\n",
       "      <td>50.345</td>\n",
       "      <td>122.777</td>\n",
       "      <td>27285.6286</td>\n",
       "      <td>487.393</td>\n",
       "      <td>1503.815</td>\n",
       "      <td>7441.383</td>\n",
       "      <td>982.447</td>\n",
       "      <td>104.628</td>\n",
       "      <td>962.841</td>\n",
       "      <td>130.627</td>\n",
       "      <td>...</td>\n",
       "      <td>214.987</td>\n",
       "      <td>42.783</td>\n",
       "      <td>95.87</td>\n",
       "      <td>757.017</td>\n",
       "      <td>161.308</td>\n",
       "      <td>14.581</td>\n",
       "      <td>1955.009</td>\n",
       "      <td>1122.477</td>\n",
       "      <td>1310.288</td>\n",
       "      <td>0.0</td>\n",
       "    </tr>\n",
       "    <tr>\n",
       "      <th>1991</th>\n",
       "      <td>79.331</td>\n",
       "      <td>103.536</td>\n",
       "      <td>27293.4934</td>\n",
       "      <td>667.199</td>\n",
       "      <td>2123.824</td>\n",
       "      <td>8493.196</td>\n",
       "      <td>932.513</td>\n",
       "      <td>124.286</td>\n",
       "      <td>746.816</td>\n",
       "      <td>79.653</td>\n",
       "      <td>...</td>\n",
       "      <td>192.532</td>\n",
       "      <td>54.379</td>\n",
       "      <td>81.549</td>\n",
       "      <td>1468.936</td>\n",
       "      <td>432.652</td>\n",
       "      <td>17.792</td>\n",
       "      <td>2088.001</td>\n",
       "      <td>940.704</td>\n",
       "      <td>1437.848</td>\n",
       "      <td>0.0</td>\n",
       "    </tr>\n",
       "    <tr>\n",
       "      <th>1992</th>\n",
       "      <td>77.52</td>\n",
       "      <td>120.235</td>\n",
       "      <td>34603.3542</td>\n",
       "      <td>620.238</td>\n",
       "      <td>1185.48</td>\n",
       "      <td>5569.478</td>\n",
       "      <td>1121.684</td>\n",
       "      <td>137.161</td>\n",
       "      <td>900.111</td>\n",
       "      <td>54.291</td>\n",
       "      <td>...</td>\n",
       "      <td>196.978</td>\n",
       "      <td>39.084</td>\n",
       "      <td>53.181</td>\n",
       "      <td>1254.945</td>\n",
       "      <td>85.648</td>\n",
       "      <td>14.328</td>\n",
       "      <td>2185.074</td>\n",
       "      <td>1215.298</td>\n",
       "      <td>2340.447</td>\n",
       "      <td>0.0</td>\n",
       "    </tr>\n",
       "    <tr>\n",
       "      <th>1993</th>\n",
       "      <td>32.608</td>\n",
       "      <td>50.823</td>\n",
       "      <td>28166.9786</td>\n",
       "      <td>393.354</td>\n",
       "      <td>2069.007</td>\n",
       "      <td>6743.288</td>\n",
       "      <td>441.859</td>\n",
       "      <td>62.111</td>\n",
       "      <td>1019.481</td>\n",
       "      <td>70.046</td>\n",
       "      <td>...</td>\n",
       "      <td>142.066</td>\n",
       "      <td>37.451</td>\n",
       "      <td>53.79</td>\n",
       "      <td>1275.201</td>\n",
       "      <td>194.939</td>\n",
       "      <td>16.079</td>\n",
       "      <td>3141.706</td>\n",
       "      <td>1332.881</td>\n",
       "      <td>3020.216</td>\n",
       "      <td>0.0</td>\n",
       "    </tr>\n",
       "    <tr>\n",
       "      <th>1994</th>\n",
       "      <td>76.802</td>\n",
       "      <td>116.944</td>\n",
       "      <td>28192.047</td>\n",
       "      <td>664.143</td>\n",
       "      <td>2375.766</td>\n",
       "      <td>5367.878</td>\n",
       "      <td>641.372</td>\n",
       "      <td>84.112</td>\n",
       "      <td>1138.659</td>\n",
       "      <td>24.689</td>\n",
       "      <td>...</td>\n",
       "      <td>248.313</td>\n",
       "      <td>72.738</td>\n",
       "      <td>42.448</td>\n",
       "      <td>1399.135</td>\n",
       "      <td>176.296</td>\n",
       "      <td>18.435</td>\n",
       "      <td>2392.753</td>\n",
       "      <td>988.996</td>\n",
       "      <td>3631.609</td>\n",
       "      <td>0.0</td>\n",
       "    </tr>\n",
       "  </tbody>\n",
       "</table>\n",
       "<p>5 rows × 56 columns</p>\n",
       "</div>"
      ],
      "text/plain": [
       "total_production  Angola Bolivia (Plurinational State of)      Brazil  \\\n",
       "1990              50.345                          122.777  27285.6286   \n",
       "1991              79.331                          103.536  27293.4934   \n",
       "1992               77.52                          120.235  34603.3542   \n",
       "1993              32.608                           50.823  28166.9786   \n",
       "1994              76.802                          116.944   28192.047   \n",
       "\n",
       "total_production  Burundi   Ecuador Indonesia Madagascar   Malawi  \\\n",
       "1990              487.393  1503.815  7441.383    982.447  104.628   \n",
       "1991              667.199  2123.824  8493.196    932.513  124.286   \n",
       "1992              620.238   1185.48  5569.478   1121.684  137.161   \n",
       "1993              393.354  2069.007  6743.288    441.859   62.111   \n",
       "1994              664.143  2375.766  5367.878    641.372   84.112   \n",
       "\n",
       "total_production Papua New Guinea Paraguay  ...   Panama Sierra Leone  \\\n",
       "1990                      962.841  130.627  ...  214.987       42.783   \n",
       "1991                      746.816   79.653  ...  192.532       54.379   \n",
       "1992                      900.111   54.291  ...  196.978       39.084   \n",
       "1993                     1019.481   70.046  ...  142.066       37.451   \n",
       "1994                     1138.659   24.689  ...  248.313       72.738   \n",
       "\n",
       "total_production Sri Lanka  Thailand     Togo Trinidad & Tobago    Uganda  \\\n",
       "1990                 95.87   757.017  161.308            14.581  1955.009   \n",
       "1991                81.549  1468.936  432.652            17.792  2088.001   \n",
       "1992                53.181  1254.945   85.648            14.328  2185.074   \n",
       "1993                 53.79  1275.201  194.939            16.079  3141.706   \n",
       "1994                42.448  1399.135  176.296            18.435  2392.753   \n",
       "\n",
       "total_production Venezuela  Viet Nam Yemen  \n",
       "1990              1122.477  1310.288   0.0  \n",
       "1991               940.704  1437.848   0.0  \n",
       "1992              1215.298  2340.447   0.0  \n",
       "1993              1332.881  3020.216   0.0  \n",
       "1994               988.996  3631.609   0.0  \n",
       "\n",
       "[5 rows x 56 columns]"
      ]
     },
     "execution_count": 228,
     "metadata": {},
     "output_type": "execute_result"
    }
   ],
   "source": [
    "# So We need to transpose the data frame, extract the first row as a names\n",
    "coffee_production = coffee.transpose()\n",
    "\n",
    "# Extract the first row and set it as names\n",
    "coffee_production.columns = coffee_production.iloc[0, :]\n",
    "\n",
    "# Drop the first row from the coffee_t dataframe\n",
    "#coffee_t = coffee_t.iloc[1:, :]\n",
    "coffee_production = coffee_production.drop(\"total_production\")\n",
    "#coffee_production = coffee_production.drop(coffee_production.index[0])\n",
    "\n",
    "### \n",
    "coffee_production.head()"
   ]
  },
  {
   "cell_type": "code",
   "execution_count": null,
   "id": "b3f0f818",
   "metadata": {},
   "outputs": [
    {
     "name": "stdout",
     "output_type": "stream",
     "text": [
      "total_production\n",
      "Angola                                 1312.4254\n",
      "Bolivia (Plurinational State of)       3368.2377\n",
      "Brazil                              1190965.7353\n",
      "Burundi                               10155.0003\n",
      "Ecuador                               31218.6262\n",
      "Indonesia                            245116.7707\n",
      "Madagascar                            17043.8633\n",
      "Malawi                                 1354.7744\n",
      "Papua New Guinea                      29299.7079\n",
      "Paraguay                               1005.6725\n",
      "Peru                                  84790.6704\n",
      "Rwanda                                 8986.9088\n",
      "Timor-Leste                            1040.3595\n",
      "Zimbabwe                               2193.7337\n",
      "Congo                                    111.568\n",
      "Cuba                                   5847.3911\n",
      "Dominican Republic                    14755.8731\n",
      "Haiti                                 11300.2118\n",
      "Philippines                            14536.899\n",
      "Tanzania                              23652.8701\n",
      "Zambia                                 1252.3707\n",
      "Benin                                      1.855\n",
      "Cameroon                              22336.8398\n",
      "Central African Republic               3030.9373\n",
      "Colombia                             345871.4464\n",
      "Costa Rica                            58469.8885\n",
      "Côte d'Ivoire                         77097.2338\n",
      "Democratic Republic of Congo          17089.5749\n",
      "El Salvador                           46353.1457\n",
      "Equatorial Guinea                         16.835\n",
      "Ethiopia                             141542.8931\n",
      "Gabon                                    44.6571\n",
      "Ghana                                  1049.3472\n",
      "Guatemala                            113401.0702\n",
      "Guinea                                 7958.1891\n",
      "Guyana                                  170.2971\n",
      "Honduras                             105456.5888\n",
      "India                                 132025.681\n",
      "Jamaica                                 876.2585\n",
      "Kenya                                 28627.8535\n",
      "Lao People's Democratic Republic       8704.7002\n",
      "Liberia                                 245.0147\n",
      "Mexico                               126908.2467\n",
      "Nepal                                    24.8252\n",
      "Nicaragua                             42548.3655\n",
      "Nigeria                                1323.6308\n",
      "Panama                                 4572.6972\n",
      "Sierra Leone                           1398.6103\n",
      "Sri Lanka                              1192.4539\n",
      "Thailand                               27383.937\n",
      "Togo                                   4669.3259\n",
      "Trinidad & Tobago                       418.0998\n",
      "Uganda                                 93146.369\n",
      "Venezuela                              32510.123\n",
      "Viet Nam                             439540.9519\n",
      "Yemen                                   3111.728\n",
      "dtype: object\n"
     ]
    }
   ],
   "source": [
    "# We can use the numpy sum argument to sum across all rows\n",
    "coffee_production.sum()\n",
    "\n",
    "# Extract top 10\n",
    "top10_producers = coffee_production.sum().sort_values(ascending=False).iloc[0:10]\n",
    "\n"
   ]
  },
  {
   "cell_type": "code",
   "execution_count": 235,
   "id": "a3e51093",
   "metadata": {},
   "outputs": [
    {
     "data": {
      "text/plain": [
       "<BarContainer object of 10 artists>"
      ]
     },
     "execution_count": 235,
     "metadata": {},
     "output_type": "execute_result"
    },
    {
     "data": {
      "image/png": "[encoded data removed]",
      "text/plain": [
       "<Figure size 640x480 with 1 Axes>"
      ]
     },
     "metadata": {},
     "output_type": "display_data"
    }
   ],
   "source": [
    "fig, ax = plt.subplots()\n",
    "\n",
    "ax.bar(x = top10_producers.index, height = top10_producers/1e6)"
   ]
  },
  {
   "cell_type": "code",
   "execution_count": 238,
   "id": "ed1fa746",
   "metadata": {},
   "outputs": [
    {
     "data": {
      "application/vnd.microsoft.datawrangler.viewer.v0+json": {
       "columns": [
        {
         "name": "index",
         "rawType": "datetime64[ns]",
         "type": "datetime"
        },
        {
         "name": "Brazil",
         "rawType": "object",
         "type": "unknown"
        },
        {
         "name": "Viet Nam",
         "rawType": "object",
         "type": "unknown"
        },
        {
         "name": "Colombia",
         "rawType": "object",
         "type": "unknown"
        },
        {
         "name": "Indonesia",
         "rawType": "object",
         "type": "unknown"
        },
        {
         "name": "Ethiopia",
         "rawType": "object",
         "type": "unknown"
        }
       ],
       "conversionMethod": "pd.DataFrame",
       "ref": "28eb55db-f01e-4390-ab7a-5eba046b3813",
       "rows": [
        [
         "1990-01-01 00:00:00",
         "27285.6286",
         "1310.288",
         "14396.0",
         "7441.383",
         "2909.451"
        ],
        [
         "1991-01-01 00:00:00",
         "27293.4934",
         "1437.848",
         "17980.397",
         "8493.196",
         "2924.664"
        ],
        [
         "1992-01-01 00:00:00",
         "34603.3542",
         "2340.447",
         "14946.878",
         "5569.478",
         "1825.171"
        ],
        [
         "1993-01-01 00:00:00",
         "28166.9786",
         "3020.216",
         "11422.422",
         "6743.288",
         "2967.004"
        ],
        [
         "1994-01-01 00:00:00",
         "28192.047",
         "3631.609",
         "12964.0",
         "5367.878",
         "2762.73"
        ]
       ],
       "shape": {
        "columns": 5,
        "rows": 5
       }
      },
      "text/html": [
       "<div>\n",
       "<style scoped>\n",
       "    .dataframe tbody tr th:only-of-type {\n",
       "        vertical-align: middle;\n",
       "    }\n",
       "\n",
       "    .dataframe tbody tr th {\n",
       "        vertical-align: top;\n",
       "    }\n",
       "\n",
       "    .dataframe thead th {\n",
       "        text-align: right;\n",
       "    }\n",
       "</style>\n",
       "<table border=\"1\" class=\"dataframe\">\n",
       "  <thead>\n",
       "    <tr style=\"text-align: right;\">\n",
       "      <th>total_production</th>\n",
       "      <th>Brazil</th>\n",
       "      <th>Viet Nam</th>\n",
       "      <th>Colombia</th>\n",
       "      <th>Indonesia</th>\n",
       "      <th>Ethiopia</th>\n",
       "    </tr>\n",
       "  </thead>\n",
       "  <tbody>\n",
       "    <tr>\n",
       "      <th>1990-01-01</th>\n",
       "      <td>27285.6286</td>\n",
       "      <td>1310.288</td>\n",
       "      <td>14396.0</td>\n",
       "      <td>7441.383</td>\n",
       "      <td>2909.451</td>\n",
       "    </tr>\n",
       "    <tr>\n",
       "      <th>1991-01-01</th>\n",
       "      <td>27293.4934</td>\n",
       "      <td>1437.848</td>\n",
       "      <td>17980.397</td>\n",
       "      <td>8493.196</td>\n",
       "      <td>2924.664</td>\n",
       "    </tr>\n",
       "    <tr>\n",
       "      <th>1992-01-01</th>\n",
       "      <td>34603.3542</td>\n",
       "      <td>2340.447</td>\n",
       "      <td>14946.878</td>\n",
       "      <td>5569.478</td>\n",
       "      <td>1825.171</td>\n",
       "    </tr>\n",
       "    <tr>\n",
       "      <th>1993-01-01</th>\n",
       "      <td>28166.9786</td>\n",
       "      <td>3020.216</td>\n",
       "      <td>11422.422</td>\n",
       "      <td>6743.288</td>\n",
       "      <td>2967.004</td>\n",
       "    </tr>\n",
       "    <tr>\n",
       "      <th>1994-01-01</th>\n",
       "      <td>28192.047</td>\n",
       "      <td>3631.609</td>\n",
       "      <td>12964.0</td>\n",
       "      <td>5367.878</td>\n",
       "      <td>2762.73</td>\n",
       "    </tr>\n",
       "  </tbody>\n",
       "</table>\n",
       "</div>"
      ],
      "text/plain": [
       "total_production      Brazil  Viet Nam   Colombia Indonesia  Ethiopia\n",
       "1990-01-01        27285.6286  1310.288    14396.0  7441.383  2909.451\n",
       "1991-01-01        27293.4934  1437.848  17980.397  8493.196  2924.664\n",
       "1992-01-01        34603.3542  2340.447  14946.878  5569.478  1825.171\n",
       "1993-01-01        28166.9786  3020.216  11422.422  6743.288  2967.004\n",
       "1994-01-01         28192.047  3631.609    12964.0  5367.878   2762.73"
      ]
     },
     "execution_count": 238,
     "metadata": {},
     "output_type": "execute_result"
    }
   ],
   "source": [
    "top_five = coffee_production.loc[:, [\"Brazil\", \"Viet Nam\", \"Colombia\", \"Indonesia\", \"Ethiopia\"]]\n",
    "top_five.index = top_five.index.astype(\"datetime64[ns]\")\n",
    "\n",
    "top_five.head()"
   ]
  },
  {
   "cell_type": "code",
   "execution_count": 260,
   "id": "6970425b",
   "metadata": {},
   "outputs": [
    {
     "data": {
      "text/plain": [
       "<matplotlib.collections.PathCollection at 0x168354550>"
      ]
     },
     "execution_count": 260,
     "metadata": {},
     "output_type": "execute_result"
    },
    {
     "data": {
      "image/png": "[encoded data removed]",
      "text/plain": [
       "<Figure size 640x480 with 1 Axes>"
      ]
     },
     "metadata": {},
     "output_type": "display_data"
    }
   ],
   "source": [
    "# Scatter plot of Brazil v Veneuzeula\n",
    "\n",
    "fig, ax = plt.subplots()\n",
    "\n",
    "ax.scatter(\n",
    "    coffee_production[\"Brazil\"],\n",
    "    coffee_production[\"Venezuela\"]\n",
    ")"
   ]
  },
  {
   "cell_type": "code",
   "execution_count": 261,
   "id": "cbc7c99a",
   "metadata": {},
   "outputs": [
    {
     "data": {
      "text/plain": [
       "<matplotlib.collections.PathCollection at 0x1684a1bd0>"
      ]
     },
     "execution_count": 261,
     "metadata": {},
     "output_type": "execute_result"
    },
    {
     "data": {
      "image/png": "[encoded data removed]",
      "text/plain": [
       "<Figure size 640x480 with 1 Axes>"
      ]
     },
     "metadata": {},
     "output_type": "display_data"
    }
   ],
   "source": [
    "fig, ax = plt.subplots()\n",
    "\n",
    "ax.scatter(\n",
    "    coffee_production[\"Brazil\"],\n",
    "    coffee_production[\"Viet Nam\"]\n",
    ")"
   ]
  },
  {
   "cell_type": "markdown",
   "id": "4b4639c7",
   "metadata": {},
   "source": [
    "# Build a pie chart data frame"
   ]
  },
  {
   "cell_type": "code",
   "execution_count": 278,
   "id": "61ebde45",
   "metadata": {},
   "outputs": [],
   "source": [
    "# EXTRACT COUNTRIES WE DO NOT WANT\n",
    "top_5_list = top_5.tolist()\n",
    "top_5_list\n",
    "\n",
    "coffee_production[\"Rest of World\"] = coffee_production.drop(top_5_list, axis = 1).sum(axis = 1)\n",
    "\n",
    "coffee_production_top5_2018 = coffee_production.loc[\"2018\", top_5_list+ [\"Rest of World\"]]\n"
   ]
  },
  {
   "cell_type": "code",
   "execution_count": 271,
   "id": "36325f0c",
   "metadata": {},
   "outputs": [
    {
     "data": {
      "text/plain": [
       "Index(['Angola', 'Bolivia (Plurinational State of)', 'Brazil', 'Burundi',\n",
       "       'Ecuador', 'Indonesia', 'Madagascar', 'Malawi', 'Papua New Guinea',\n",
       "       'Paraguay', 'Peru', 'Rwanda', 'Timor-Leste', 'Zimbabwe', 'Congo',\n",
       "       'Cuba', 'Dominican Republic', 'Haiti', 'Philippines', 'Tanzania',\n",
       "       'Zambia', 'Benin', 'Cameroon', 'Central African Republic', 'Colombia',\n",
       "       'Costa Rica', 'Côte d'Ivoire', 'Democratic Republic of Congo',\n",
       "       'El Salvador', 'Equatorial Guinea', 'Ethiopia', 'Gabon', 'Ghana',\n",
       "       'Guatemala', 'Guinea', 'Guyana', 'Honduras', 'India', 'Jamaica',\n",
       "       'Kenya', 'Lao People's Democratic Republic', 'Liberia', 'Mexico',\n",
       "       'Nepal', 'Nicaragua', 'Nigeria', 'Panama', 'Sierra Leone', 'Sri Lanka',\n",
       "       'Thailand', 'Togo', 'Trinidad & Tobago', 'Uganda', 'Venezuela',\n",
       "       'Viet Nam', 'Yemen'],\n",
       "      dtype='object', name='total_production')"
      ]
     },
     "execution_count": 271,
     "metadata": {},
     "output_type": "execute_result"
    }
   ],
   "source": [
    "coffee_production.columns"
   ]
  },
  {
   "cell_type": "code",
   "execution_count": 280,
   "id": "fc8870e9",
   "metadata": {},
   "outputs": [
    {
     "data": {
      "text/plain": [
       "total_production\n",
       "Brazil           float64\n",
       "rest_of_world     object\n",
       "dtype: object"
      ]
     },
     "execution_count": 280,
     "metadata": {},
     "output_type": "execute_result"
    }
   ],
   "source": [
    "# Another way to sum around a column\n",
    "\n",
    "brazil_vs_others = (\n",
    "    coffee_production\n",
    "    .assign(rest_of_world = coffee_production.drop(\"Brazil\", axis = 1).sum(axis = 1))\n",
    "    .loc[:, [\"Brazil\", \"rest_of_world\"]]\n",
    "    .astype({\"Brazil\": \"float64\"})    \n",
    ")\n",
    "\n",
    "brazil_vs_others.dtypes"
   ]
  }
 ],
 "metadata": {
  "kernelspec": {
   "display_name": ".venv",
   "language": "python",
   "name": "python3"
  },
  "language_info": {
   "codemirror_mode": {
    "name": "ipython",
    "version": 3
   },
   "file_extension": ".py",
   "mimetype": "text/x-python",
   "name": "python",
   "nbconvert_exporter": "python",
   "pygments_lexer": "ipython3",
   "version": "3.13.3"
  }
 },
 "nbformat": 4,
 "nbformat_minor": 5
}
