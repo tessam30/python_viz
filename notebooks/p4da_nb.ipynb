{
 "cells": [
  {
   "cell_type": "markdown",
   "id": "39ccea11",
   "metadata": {},
   "source": [
    "# Chapter 2 of Python for Data Anlaysis"
   ]
  },
  {
   "cell_type": "code",
   "execution_count": 2,
   "id": "d8428ccf",
   "metadata": {},
   "outputs": [
    {
     "name": "stdout",
     "output_type": "stream",
     "text": [
      "hello world\n"
     ]
    }
   ],
   "source": [
    "print(\"hello world\")"
   ]
  },
  {
   "cell_type": "code",
   "execution_count": 3,
   "id": "7751fd12",
   "metadata": {},
   "outputs": [],
   "source": [
    "import numpy as np"
   ]
  },
  {
   "cell_type": "code",
   "execution_count": 12,
   "id": "ee261136",
   "metadata": {},
   "outputs": [
    {
     "name": "stdout",
     "output_type": "stream",
     "text": [
      "0\n",
      "1\n",
      "2\n",
      "3\n",
      "4\n",
      "5\n",
      "6\n"
     ]
    }
   ],
   "source": [
    "for i in range(7):\n",
    "    print(i)"
   ]
  },
  {
   "cell_type": "code",
   "execution_count": 13,
   "id": "2956c64b",
   "metadata": {},
   "outputs": [
    {
     "data": {
      "text/plain": [
       "[1.7831827102231455,\n",
       " 0.21180824790694416,\n",
       " -2.0782954338733637,\n",
       " -0.4352757087034001,\n",
       " 0.8823862266583815,\n",
       " 0.8752267668420604,\n",
       " 0.00789399322717525]"
      ]
     },
     "execution_count": 13,
     "metadata": {},
     "output_type": "execute_result"
    }
   ],
   "source": [
    "[np.random.standard_normal() for i in range(7)]"
   ]
  },
  {
   "cell_type": "code",
   "execution_count": 15,
   "id": "b66de9ec",
   "metadata": {},
   "outputs": [
    {
     "name": "stdout",
     "output_type": "stream",
     "text": [
      "9\n"
     ]
    }
   ],
   "source": [
    "# Guts of a function\n",
    "def add_numbers(a, b):\n",
    "    \"\"\" \n",
    "    What does your function do?\n",
    "    a is a number\n",
    "    b is a number\n",
    "    add_numbers adds a + b\n",
    "    \"\"\"\n",
    "    return(a + b)"
   ]
  },
  {
   "cell_type": "code",
   "execution_count": 16,
   "id": "ae80c9c0",
   "metadata": {},
   "outputs": [
    {
     "name": "stdout",
     "output_type": "stream",
     "text": [
      "\u001b[31mSignature:\u001b[39m add_numbers(a, b)\n",
      "\u001b[31mDocstring:\u001b[39m\n",
      "What does your function do?\n",
      "a is a number\n",
      "b is a number\n",
      "add_numbers adds a + b\n",
      "\u001b[31mFile:\u001b[39m      /var/folders/mv/y6dng09x31s7lvvx2x62hf1r0000gn/T/ipykernel_88219/1021108867.py\n",
      "\u001b[31mType:\u001b[39m      function"
     ]
    }
   ],
   "source": [
    "?add_numbers"
   ]
  },
  {
   "cell_type": "code",
   "execution_count": 18,
   "id": "d9337444",
   "metadata": {},
   "outputs": [
    {
     "data": {
      "text/plain": [
       "[1, 2, 3]"
      ]
     },
     "execution_count": 18,
     "metadata": {},
     "output_type": "execute_result"
    }
   ],
   "source": [
    "a = [1, 2, 3]\n",
    "b = a\n",
    "b"
   ]
  },
  {
   "cell_type": "code",
   "execution_count": 19,
   "id": "546f1151",
   "metadata": {},
   "outputs": [],
   "source": [
    "a.append(4)"
   ]
  },
  {
   "cell_type": "code",
   "execution_count": 20,
   "id": "7d33bc79",
   "metadata": {},
   "outputs": [
    {
     "data": {
      "text/plain": [
       "[1, 2, 3, 4]"
      ]
     },
     "execution_count": 20,
     "metadata": {},
     "output_type": "execute_result"
    }
   ],
   "source": [
    "b"
   ]
  },
  {
   "cell_type": "code",
   "execution_count": 37,
   "id": "8637e0db",
   "metadata": {},
   "outputs": [
    {
     "data": {
      "text/plain": [
       "'23%'"
      ]
     },
     "execution_count": 37,
     "metadata": {},
     "output_type": "execute_result"
    }
   ],
   "source": [
    "\"{:0.0%}\".format(0.23)"
   ]
  },
  {
   "cell_type": "markdown",
   "id": "90f0d61d",
   "metadata": {},
   "source": [
    "| **Placeholder**   | **Format Code** | **Type**   | **Description**                       | **Example**                    | **Output**     |\n",
    "| ----------------- | --------------- | ---------- | ------------------------------------- | ------------------------------ | -------------- |\n",
    "| `{0:.2f}`         | `.2f`           | Float      | 2 decimal places                      | `format(3.14159)`              | `3.14`         |\n",
    "| `{0:.0f}`         | `.0f`           | Float      | No decimals (rounds)                  | `format(3.9)`                  | `4`            |\n",
    "| `{0:.2%}`         | `.2%`           | Percentage | Converts to percentage and adds `%`   | `format(0.1234)`               | `12.34%`       |\n",
    "| `{0:d}`           | `d`             | Integer    | Decimal integer                       | `format(42)`                   | `42`           |\n",
    "| `{0:b}`           | `b`             | Integer    | Binary                                | `format(10)`                   | `1010`         |\n",
    "| `{0:x}` / `{0:X}` | `x` / `X`       | Integer    | Hexadecimal (lower/upper)             | `format(255)`                  | `ff` / `FF`    |\n",
    "| `{0:s}`           | `s`             | String     | String (optional `:s`)                | `format(\"hello\")`              | `hello`        |\n",
    "| `{0:.2e}`         | `.2e`           | Scientific | Scientific notation                   | `format(1234.5678)`            | `1.23e+03`     |\n",
    "| `{0:,.2f}`        | `,.2f`          | Float      | Thousands separator + 2 decimals      | `format(1234567.89)`           | `1,234,567.89` |\n",
    "| `{0:$,.2f}`       | `$,.2f`         | Custom     | Currency (manually add `$` in string) | `\"$\" + format(1234.5, \",.2f\")` | `$1,234.50`    |\n",
    "\n",
    "### Full List\n",
    "| **Specifier** | **Description**                                                           | **Example**              | **Output**     |\n",
    "| ------------- | ------------------------------------------------------------------------- | ------------------------ | -------------- |\n",
    "| `%s`          | Format as string                                                          | `format(\"Hello\")`        | `\"Hello\"`      |\n",
    "| `%d`          | Format as a signed decimal integer                                        | `format(42)`             | `42`           |\n",
    "| `%i`          | Format as an integer (similar to `%d`)                                    | `format(42)`             | `42`           |\n",
    "| `%f`          | Format as a floating point number                                         | `format(3.14159)`        | `3.14159`      |\n",
    "| `%x` / `%X`   | Format as a hexadecimal (lowercase/uppercase) integer                     | `format(255, \"x\")`       | `ff` / `FF`    |\n",
    "| `%o`          | Format as an octal integer                                                | `format(8, \"o\")`         | `10`           |\n",
    "| `%e` / `%E`   | Format as scientific notation (lowercase/uppercase)                       | `format(1234.5678, \"e\")` | `1.234568e+03` |\n",
    "| `%g` / `%G`   | Format as either fixed-point or scientific notation, whichever is shorter | `format(0.0001234, \"g\")` | `1.234e-04`    |\n",
    "| `%%`          | Literal `%` character                                                     | `format(100, \"%%\")`      | `100%`         |\n",
    "\n",
    "### Width and Alignment\n",
    "| **Specifier** | **Description**                                   | **Example**             | **Output**     |\n",
    "| ------------- | ------------------------------------------------- | ----------------------- | -------------- |\n",
    "| `{:<10}`      | Left align within 10 character space              | `format(\"cat\", \"<10\")`  | `\"cat       \"` |\n",
    "| `{:>10}`      | Right align within 10 character space             | `format(\"cat\", \">10\")`  | `\"       cat\"` |\n",
    "| `{:^10}`      | Center align within 10 character space            | `format(\"cat\", \"^10\")`  | `\"   cat    \"` |\n",
    "| `{:0>5}`      | Pad with leading zeros to 5 character width       | `format(42, \"0>5\")`     | `\"00042\"`      |\n",
    "| `{:*>10}`     | Right align with `*` padding within 10 characters | `format(\"cat\", \"*^10\")` | `\"***cat***\"`  |\n",
    "\n",
    "### Decimals\n",
    "| **Specifier** | **Description**                          | **Example**                | **Output** |\n",
    "| ------------- | ---------------------------------------- | -------------------------- | ---------- |\n",
    "| `{:.2f}`      | Fixed-point format with 2 decimal places | `format(3.14159, \".2f\")`   | `3.14`     |\n",
    "| `{:.2%}`      | Percentage format (multiplies by 100)    | `format(0.1234, \".2%\")`    | `12.34%`   |\n",
    "| `{:.0f}`      | Fixed-point format, no decimal places    | `format(3.14159, \".0f\")`   | `3`        |\n",
    "| `{:.2e}`      | Scientific notation with 2 decimals      | `format(1234.5678, \".2e\")` | `1.23e+03` |\n",
    "\n",
    "### Thousands Separator\n",
    "| **Specifier** | **Description**                                     | **Example**                        | **Output**       |\n",
    "| ------------- | --------------------------------------------------- | ---------------------------------- | ---------------- |\n",
    "| `{0:,.2f}`    | Thousands separator with 2 decimal places           | `\"{0:,.2f}\".format(1234567.891)`   | `1,234,567.89`   |\n",
    "| `{0:10,.2f}`  | Right-align with thousands separator and 2 decimals | `\"{0:10,.2f}\".format(1234567.891)` | `  1,234,567.89` |\n",
    "\n"
   ]
  },
  {
   "cell_type": "code",
   "execution_count": 74,
   "id": "30551442",
   "metadata": {},
   "outputs": [
    {
     "name": "stdout",
     "output_type": "stream",
     "text": [
      "Formatted number: 1234.57\n",
      "Formatted number: 23%\n"
     ]
    }
   ],
   "source": [
    "number = 1234.5678\n",
    "formatted_string = f\"Formatted number: {number:.2f}\"\n",
    "print(formatted_string)\n",
    "\n",
    "number = 0.23\n",
    "formatted_string = f\"Formatted number: {number:.0%}\"\n",
    "print(formatted_string)"
   ]
  },
  {
   "cell_type": "markdown",
   "id": "72920156",
   "metadata": {},
   "source": [
    "### datetime module"
   ]
  },
  {
   "cell_type": "code",
   "execution_count": 45,
   "id": "accf8beb",
   "metadata": {},
   "outputs": [
    {
     "name": "stdout",
     "output_type": "stream",
     "text": [
      "29  is the day and 30 is the minute\n",
      "The full date is 2011-10-29 20:30:21\n"
     ]
    }
   ],
   "source": [
    "# Inbulilt datetime module provides datetime, date, and time types\n",
    "from datetime import datetime, date, time\n",
    "dt = datetime(2011, 10, 29, 20, 30, 21)\n",
    "print(f\"{dt.day} is the day and {dt.minute} is the minute\")\n",
    "print(f\"The full date is {dt.date()} {dt.time()}\")"
   ]
  },
  {
   "cell_type": "code",
   "execution_count": 49,
   "id": "dae8c93d",
   "metadata": {},
   "outputs": [
    {
     "ename": "TypeError",
     "evalue": "descriptor 'time' for 'datetime.datetime' objects doesn't apply to a 'int' object",
     "output_type": "error",
     "traceback": [
      "\u001b[31m---------------------------------------------------------------------------\u001b[39m",
      "\u001b[31mTypeError\u001b[39m                                 Traceback (most recent call last)",
      "\u001b[36mCell\u001b[39m\u001b[36m \u001b[39m\u001b[32mIn[49]\u001b[39m\u001b[32m, line 1\u001b[39m\n\u001b[32m----> \u001b[39m\u001b[32m1\u001b[39m \u001b[43mdatetime\u001b[49m\u001b[43m.\u001b[49m\u001b[43mtime\u001b[49m\u001b[43m(\u001b[49m\u001b[32;43m20\u001b[39;49m\u001b[43m,\u001b[49m\u001b[43m \u001b[49m\u001b[32;43m30\u001b[39;49m\u001b[43m,\u001b[49m\u001b[43m \u001b[49m\u001b[32;43m21\u001b[39;49m\u001b[43m)\u001b[49m\n",
      "\u001b[31mTypeError\u001b[39m: descriptor 'time' for 'datetime.datetime' objects doesn't apply to a 'int' object"
     ]
    }
   ],
   "source": []
  },
  {
   "cell_type": "markdown",
   "id": "608ac473",
   "metadata": {},
   "source": [
    "### Control Flow"
   ]
  },
  {
   "cell_type": "code",
   "execution_count": 56,
   "id": "96f2ceca",
   "metadata": {},
   "outputs": [
    {
     "name": "stdout",
     "output_type": "stream",
     "text": [
      "Positive and larger than or equal to 5\n"
     ]
    }
   ],
   "source": [
    "# If statements\n",
    "x = 5\n",
    "if x < 0:\n",
    "    print(\"It's negative\")\n",
    "elif x == 0:\n",
    "    print(\"Equal to zero\")\n",
    "elif 0 < x < 5:\n",
    "    print(\"Positive but smaller than 5\")\n",
    "else:\n",
    "    print(\"Positive and larger than or equal to 5\")"
   ]
  },
  {
   "cell_type": "code",
   "execution_count": 64,
   "id": "6aa8e43b",
   "metadata": {},
   "outputs": [
    {
     "name": "stdout",
     "output_type": "stream",
     "text": [
      "12\n"
     ]
    }
   ],
   "source": [
    "# For loops - for iterating over a collection\n",
    "#for value in collection:\n",
    "        # do something with the value\n",
    "        \n",
    "sequence = [1, 2, None, 4, None, 5]\n",
    "total = 0\n",
    "for value in sequence:\n",
    "    if value is None:\n",
    "        continue\n",
    "    total += value  \n",
    "          \n",
    "print(total)    "
   ]
  },
  {
   "cell_type": "code",
   "execution_count": 67,
   "id": "1b99d043",
   "metadata": {},
   "outputs": [
    {
     "name": "stdout",
     "output_type": "stream",
     "text": [
      "range(0, 10)\n",
      "[0, 1, 2, 3, 4, 5, 6, 7, 8, 9]\n"
     ]
    }
   ],
   "source": [
    "print(range(10))\n",
    "print(list(range(0, 10)))"
   ]
  },
  {
   "cell_type": "code",
   "execution_count": 70,
   "id": "41bbf2c9",
   "metadata": {},
   "outputs": [
    {
     "name": "stdout",
     "output_type": "stream",
     "text": [
      "element 0: sequence 1\n",
      "element 1: sequence 2\n",
      "element 2: sequence 3\n",
      "element 3: sequence 4\n"
     ]
    }
   ],
   "source": [
    "# Using ranges as iterators\n",
    "seq = [1, 2, 3, 4]\n",
    "\n",
    "for i in range(len(seq)):\n",
    "    print(f\"element {i}: sequence {seq[i]}\")"
   ]
  },
  {
   "cell_type": "code",
   "execution_count": 73,
   "id": "2bbd85f5",
   "metadata": {},
   "outputs": [
    {
     "name": "stdout",
     "output_type": "stream",
     "text": [
      "0\n",
      "3\n",
      "5\n",
      "6\n",
      "9\n",
      "10\n",
      "12\n",
      "15\n",
      "18\n",
      "20\n",
      "21\n",
      "24\n",
      "25\n",
      "27\n",
      "30\n",
      "33\n",
      "35\n",
      "36\n",
      "39\n",
      "40\n",
      "42\n",
      "45\n",
      "48\n",
      "50\n",
      "51\n",
      "54\n",
      "55\n",
      "57\n",
      "60\n",
      "63\n",
      "65\n",
      "66\n",
      "69\n",
      "70\n",
      "72\n",
      "75\n",
      "78\n",
      "80\n",
      "81\n",
      "84\n",
      "85\n",
      "87\n",
      "90\n",
      "93\n",
      "95\n",
      "96\n",
      "99\n",
      "2318\n"
     ]
    }
   ],
   "source": [
    "# Summarize all numbers from 0 to 99,999 that are multiples of 3 or 5\n",
    "total = 0\n",
    "for i in range(0, 100):\n",
    "    if i % 3 == 0 or i % 5 == 0:\n",
    "        print(i)\n",
    "        total += i\n",
    "\n",
    "print(total)    "
   ]
  },
  {
   "cell_type": "markdown",
   "id": "15aa7f7f",
   "metadata": {},
   "source": [
    "# Chapter 3: Built-in Data Structures, functions and files"
   ]
  },
  {
   "cell_type": "markdown",
   "id": "e5186cdd",
   "metadata": {},
   "source": [
    "### Tuples\n",
    "A tuple is a fixed-length, immutable sequence of Python objects. \n",
    "Once assigned, it cannot be changed."
   ]
  },
  {
   "cell_type": "code",
   "execution_count": 77,
   "id": "c258bfa4",
   "metadata": {},
   "outputs": [],
   "source": [
    "tup = (4, 5, 6)\n",
    "tupa = 3, 5, 6"
   ]
  },
  {
   "cell_type": "code",
   "execution_count": 79,
   "id": "ee7fcaaa",
   "metadata": {},
   "outputs": [
    {
     "data": {
      "text/plain": [
       "(4, 5, 6, 3, 5, 6)"
      ]
     },
     "execution_count": 79,
     "metadata": {},
     "output_type": "execute_result"
    }
   ],
   "source": [
    "tup + tupa"
   ]
  },
  {
   "cell_type": "markdown",
   "id": "4a4b2446",
   "metadata": {},
   "source": [
    "You can convert any sequence or iterator to a tuple by invoking tuple:"
   ]
  },
  {
   "cell_type": "code",
   "execution_count": 80,
   "id": "894715ca",
   "metadata": {},
   "outputs": [
    {
     "name": "stdout",
     "output_type": "stream",
     "text": [
      "('s', 't', 'r', 'i', 'n', 'g')\n"
     ]
    }
   ],
   "source": [
    "tuple([4, 2, 0])\n",
    "tup = tuple('string')\n",
    "print(tup)"
   ]
  },
  {
   "cell_type": "code",
   "execution_count": 81,
   "id": "a97a666d",
   "metadata": {},
   "outputs": [
    {
     "data": {
      "text/plain": [
       "'t'"
      ]
     },
     "execution_count": 81,
     "metadata": {},
     "output_type": "execute_result"
    }
   ],
   "source": [
    "tup[1]"
   ]
  },
  {
   "cell_type": "code",
   "execution_count": 84,
   "id": "b5d58ea5",
   "metadata": {},
   "outputs": [
    {
     "data": {
      "text/plain": [
       "5"
      ]
     },
     "execution_count": 84,
     "metadata": {},
     "output_type": "execute_result"
    }
   ],
   "source": [
    "nested_tup = (4, 5, 6), (7, 8)\n",
    "nested_tup[0][1] # get the 1st sub-tuple, and then the 2nd element"
   ]
  },
  {
   "cell_type": "markdown",
   "id": "681b6743",
   "metadata": {},
   "source": [
    "If an object inside a tuple is mutable, such as a list, you can modify it in place:"
   ]
  },
  {
   "cell_type": "code",
   "execution_count": 87,
   "id": "1eb69a33",
   "metadata": {},
   "outputs": [
    {
     "data": {
      "text/plain": [
       "('foo', [1, 2, 3], True)"
      ]
     },
     "execution_count": 87,
     "metadata": {},
     "output_type": "execute_result"
    }
   ],
   "source": [
    "tup = tuple(['foo', [1, 2], True])\n",
    "tup[1].append(3)\n",
    "tup"
   ]
  },
  {
   "cell_type": "markdown",
   "id": "7fd7bcd7",
   "metadata": {},
   "source": [
    "Tuple iteration"
   ]
  },
  {
   "cell_type": "code",
   "execution_count": 89,
   "id": "9f808b74",
   "metadata": {},
   "outputs": [
    {
     "name": "stdout",
     "output_type": "stream",
     "text": [
      "a = 1. b = 2, c = 3 \n",
      "a = 4. b = 5, c = 6 \n",
      "a = 7. b = 8, c = 9 \n"
     ]
    }
   ],
   "source": [
    "seq = [(1, 2, 3), (4, 5, 6), (7, 8, 9)]\n",
    "\n",
    "for a, b, c in seq:\n",
    "    print(f'a = {a}. b = {b}, c = {c} ')"
   ]
  },
  {
   "cell_type": "markdown",
   "id": "2aed5990",
   "metadata": {},
   "source": [
    "There are some situations where you may want to “pluck” a few elements from the beginning of a tuple. There is a special syntax that can do this, *rest, which is also used in function signatures to capture an arbitrarily long list of positional arguments: Some programmers use *_ for *rest. "
   ]
  },
  {
   "cell_type": "code",
   "execution_count": 93,
   "id": "dd90d73e",
   "metadata": {},
   "outputs": [
    {
     "name": "stdout",
     "output_type": "stream",
     "text": [
      " 1, 2, [3, 4, 5]\n"
     ]
    }
   ],
   "source": [
    "values = 1, 2, 3, 4, 5\n",
    "a, b, *rest = values\n",
    "print(f' {a}, {b}, {rest}')"
   ]
  },
  {
   "cell_type": "markdown",
   "id": "0945d18f",
   "metadata": {},
   "source": [
    "In contrast with tuples, lists are variable length and their contents can be modified in place. Lists are mutable. You can define them using square brackets [] or using the list type function"
   ]
  },
  {
   "cell_type": "code",
   "execution_count": 99,
   "id": "be7074ac",
   "metadata": {},
   "outputs": [
    {
     "name": "stdout",
     "output_type": "stream",
     "text": [
      "[2, 3, 7, None], ['foo', 'bar', 'baz']\n",
      "[2, 3, 7, None], ['foo', 'peekabo', 'baz']\n"
     ]
    }
   ],
   "source": [
    "a_list = [2, 3, 7, None]\n",
    "tup = (\"foo\", \"bar\", \"baz\")\n",
    "b_list = list(tup)\n",
    "print(f\"{a_list}, {b_list}\")\n",
    "\n",
    "b_list[1] = \"peekabo\"\n",
    "print(f\"{a_list}, {b_list}\")"
   ]
  },
  {
   "cell_type": "code",
   "execution_count": 105,
   "id": "d0e58c15",
   "metadata": {},
   "outputs": [
    {
     "data": {
      "text/plain": [
       "[0, 1, 2, 3, 4, 5, 6, 7, 8, 9]"
      ]
     },
     "execution_count": 105,
     "metadata": {},
     "output_type": "execute_result"
    }
   ],
   "source": [
    "# Create a list from 0-9\n",
    "list(range(0, 10, 1))"
   ]
  },
  {
   "cell_type": "markdown",
   "id": "40c43674",
   "metadata": {},
   "source": [
    "* If you have a list already defined, you can append multiple elements to it using the extend method:\n",
    "\n"
   ]
  },
  {
   "cell_type": "code",
   "execution_count": 106,
   "id": "008c088f",
   "metadata": {},
   "outputs": [
    {
     "data": {
      "text/plain": [
       "[4, None, 'foo', 7, 8, (2, 3)]"
      ]
     },
     "execution_count": 106,
     "metadata": {},
     "output_type": "execute_result"
    }
   ],
   "source": [
    "x = [4, None, \"foo\"]\n",
    "x.extend([7, 8, (2, 3)])\n",
    "x"
   ]
  },
  {
   "cell_type": "markdown",
   "id": "375a67ce",
   "metadata": {},
   "source": [
    "#If building large lists, use the .extend() options"
   ]
  },
  {
   "cell_type": "code",
   "execution_count": null,
   "id": "781e657d",
   "metadata": {},
   "outputs": [],
   "source": [
    "everything = []\n",
    "for chunk in list_of_lists:\n",
    "    everything.extend(chunk)"
   ]
  },
  {
   "cell_type": "markdown",
   "id": "9d716225",
   "metadata": {},
   "source": [
    "You can sort using the `sort()` function rather easily. "
   ]
  },
  {
   "cell_type": "code",
   "execution_count": 110,
   "id": "d8d707d2",
   "metadata": {},
   "outputs": [
    {
     "data": {
      "text/plain": [
       "['He', 'foxes', 'saw', 'six', 'small']"
      ]
     },
     "execution_count": 110,
     "metadata": {},
     "output_type": "execute_result"
    }
   ],
   "source": [
    "b = [\"saw\", \"small\", \"He\", \"foxes\", \"six\"]\n",
    "b.sort() #alpha sort\n",
    "b"
   ]
  },
  {
   "cell_type": "code",
   "execution_count": 112,
   "id": "527f5270",
   "metadata": {},
   "outputs": [
    {
     "data": {
      "text/plain": [
       "['He', 'saw', 'six', 'foxes', 'small']"
      ]
     },
     "execution_count": 112,
     "metadata": {},
     "output_type": "execute_result"
    }
   ],
   "source": [
    "b.sort(key = len) #sort by length of element\n",
    "b"
   ]
  },
  {
   "attachments": {
    "image.png": {
     "image/png": "[encoded data removed]"
    }
   },
   "cell_type": "markdown",
   "id": "f808ac9f",
   "metadata": {},
   "source": [
    "![image.png](attachment:image.png)"
   ]
  },
  {
   "cell_type": "code",
   "execution_count": 123,
   "id": "e41a5247",
   "metadata": {},
   "outputs": [
    {
     "name": "stdout",
     "output_type": "stream",
     "text": [
      "[5, 6, 0, 1]\n",
      "[7, 2, 3, 7]\n",
      "[7, 2, 3, 7, 5, 6, 0, 1]\n"
     ]
    }
   ],
   "source": [
    "seq = [7, 2, 3, 7, 5, 6, 0, 1]\n",
    "# Fetch everything -minus four elements from the end to the end\n",
    "print(seq[-4:])\n",
    "\n",
    "print(seq[:4])\n",
    "print(seq[:])"
   ]
  },
  {
   "cell_type": "code",
   "execution_count": 124,
   "id": "c502a1e0",
   "metadata": {},
   "outputs": [
    {
     "data": {
      "text/plain": [
       "[1, 0, 6, 5, 7, 3, 2, 7]"
      ]
     },
     "execution_count": 124,
     "metadata": {},
     "output_type": "execute_result"
    }
   ],
   "source": [
    "# Reverse the order of a list using ::-1\n",
    "seq[::-1]"
   ]
  },
  {
   "cell_type": "markdown",
   "id": "07737815",
   "metadata": {},
   "source": [
    "### Dictionaries\n",
    "The dictionary or dict may be the most important built-in Python data structure. In other programming languages, dictionaries are sometimes called hash maps or associative arrays. A dictionary stores a collection of key-value pairs, where key and value are Python objects. Each key is associated with a value so that a value can be conveniently retrieved, inserted, modified, or deleted given a particular key. One approach for creating a dictionary is to use curly braces {} and colons to separate keys and values:"
   ]
  },
  {
   "cell_type": "markdown",
   "id": "9b6aaa9d",
   "metadata": {},
   "source": []
  },
  {
   "cell_type": "code",
   "execution_count": 126,
   "id": "30276f67",
   "metadata": {},
   "outputs": [
    {
     "data": {
      "text/plain": [
       "{'a': 'some value', 'b': [1, 2, 3, 4]}"
      ]
     },
     "execution_count": 126,
     "metadata": {},
     "output_type": "execute_result"
    }
   ],
   "source": [
    "d1 = {\"a\": \"some value\", \"b\": [1, 2, 3, 4]}\n",
    "d1"
   ]
  },
  {
   "cell_type": "code",
   "execution_count": 127,
   "id": "fe37dcf8",
   "metadata": {},
   "outputs": [
    {
     "data": {
      "text/plain": [
       "'some value'"
      ]
     },
     "execution_count": 127,
     "metadata": {},
     "output_type": "execute_result"
    }
   ],
   "source": [
    "d1[\"a\"]"
   ]
  },
  {
   "cell_type": "code",
   "execution_count": 128,
   "id": "9540826b",
   "metadata": {},
   "outputs": [
    {
     "data": {
      "text/plain": [
       "[1, 2, 3, 4]"
      ]
     },
     "execution_count": 128,
     "metadata": {},
     "output_type": "execute_result"
    }
   ],
   "source": [
    "d1['b']"
   ]
  },
  {
   "cell_type": "markdown",
   "id": "2c7b7b60",
   "metadata": {},
   "source": [
    "The keys and values method gives you iterators of the dictionary’s keys and values, respectively. The order of the keys depends on the order of their insertion, and these functions output the keys and values in the same respective order:"
   ]
  },
  {
   "cell_type": "code",
   "execution_count": 132,
   "id": "befb81ec",
   "metadata": {},
   "outputs": [
    {
     "name": "stdout",
     "output_type": "stream",
     "text": [
      "['a', 'b']\n",
      "['some value', [1, 2, 3, 4]]\n",
      "[('a', 'some value'), ('b', [1, 2, 3, 4])]\n"
     ]
    }
   ],
   "source": [
    "print(list(d1.keys())) # To list out just the keys\n",
    "print(list(d1.values())) # to list out just the values\n",
    "print(list(d1.items())) # to list both"
   ]
  },
  {
   "cell_type": "markdown",
   "id": "67dd9094",
   "metadata": {},
   "source": [
    "### Sets\n",
    "A set is an unordered collection of unique elements. A set can be created in two ways: via the set function or via a set literal with curly braces:\n"
   ]
  },
  {
   "cell_type": "code",
   "execution_count": 133,
   "id": "abca367c",
   "metadata": {},
   "outputs": [
    {
     "name": "stdout",
     "output_type": "stream",
     "text": [
      "{1, 2, 3, 4, 5}, and {1, 2, 3, 4, 5}\n"
     ]
    }
   ],
   "source": [
    "a = {1, 2, 3, 4, 5}\n",
    "a_set = set([1, 2, 3, 4, 5])\n",
    "print(f'{a}, and {a_set}')"
   ]
  },
  {
   "cell_type": "markdown",
   "id": "5a2ac66f",
   "metadata": {},
   "source": [
    "### Built in Sequence Functions\n",
    "Python has a handful of useful sequence functions that you should familiarize yourself with and use at any opportunity.\n",
    "\n",
    "Since this is so common, Python has a built-in function, enumerate, which returns a sequence of (i, value) tuples:"
   ]
  },
  {
   "cell_type": "code",
   "execution_count": null,
   "id": "771b6f79",
   "metadata": {},
   "outputs": [],
   "source": [
    "for index, value in enumerate(collection):\n",
    "    # do something\n",
    "    \n",
    "# This is equivalent to:\n",
    "index = 0\n",
    "for value in collection:\n",
    "   # do something with value\n",
    "   index += 1"
   ]
  },
  {
   "cell_type": "code",
   "execution_count": 134,
   "id": "0cb99317",
   "metadata": {},
   "outputs": [
    {
     "data": {
      "text/plain": [
       "[' ', 'a', 'c', 'e', 'e', 'h', 'o', 'r', 'r', 's']"
      ]
     },
     "execution_count": 134,
     "metadata": {},
     "output_type": "execute_result"
    }
   ],
   "source": [
    "# Sorted - returns a new sorted list from the elements of any sequence:\n",
    "sorted(\"horse race\")"
   ]
  },
  {
   "cell_type": "code",
   "execution_count": 136,
   "id": "cdccdf90",
   "metadata": {},
   "outputs": [
    {
     "data": {
      "text/plain": [
       "[('foo', 'one'), ('bar', 'two'), ('baz', 'three')]"
      ]
     },
     "execution_count": 136,
     "metadata": {},
     "output_type": "execute_result"
    }
   ],
   "source": [
    "# ZIP: “pairs” up the elements of a number of lists, tuples, or other sequences to create a list of tuples:\n",
    "seq1 = [\"foo\", \"bar\", \"baz\"]\n",
    "seq2 = [\"one\", \"two\", \"three\"]\n",
    "zipped = zip(seq1, seq2)\n",
    "list(zipped)\n"
   ]
  },
  {
   "cell_type": "markdown",
   "id": "398150e2",
   "metadata": {},
   "source": [
    "A common use of zip is simultaneously iterating over multiple sequences, possibly also combined with enumerate:"
   ]
  },
  {
   "cell_type": "code",
   "execution_count": 137,
   "id": "30adaba6",
   "metadata": {},
   "outputs": [
    {
     "name": "stdout",
     "output_type": "stream",
     "text": [
      "0: foo, one\n",
      "1: bar, two\n",
      "2: baz, three\n"
     ]
    }
   ],
   "source": [
    "for index, (a, b) in enumerate(zip(seq1, seq2)):\n",
    "    print(f\"{index}: {a}, {b}\")"
   ]
  },
  {
   "cell_type": "markdown",
   "id": "6a16212d",
   "metadata": {},
   "source": [
    "### List, Set, and Dictionary Comprehensions  \n",
    "List comprehensions are a convenient and widely used Python language feature. They allow you to concisely form a new list by filtering the elements of a collection, transforming the elements passing the filter into one concise expression. They take the basic form:"
   ]
  },
  {
   "cell_type": "code",
   "execution_count": null,
   "id": "d516877c",
   "metadata": {},
   "outputs": [],
   "source": [
    "[expr for value in collection if condition]\n",
    "\n",
    "# is equivalent to:\n",
    "result = []\n",
    "for value in collection:\n",
    "    if condition:\n",
    "        result.append(expr)"
   ]
  },
  {
   "cell_type": "code",
   "execution_count": 178,
   "id": "294c17a3",
   "metadata": {},
   "outputs": [
    {
     "name": "stdout",
     "output_type": "stream",
     "text": [
      "['AS', 'BAT', 'CAR', 'DOVE', 'PYTHON']\n",
      "[1, 2, 3, 3, 4, 6]\n",
      "[['a'], ['as'], ['bat'], ['car'], ['dove'], ['python']]\n",
      "['0.37', '0.95', '0.73', '0.60', '0.16', '0.16']\n"
     ]
    }
   ],
   "source": [
    "strings = [\"a\", \"as\", \"bat\", \"car\", \"dove\", \"python\"]\n",
    "\n",
    "# Set seed for reproduciblity\n",
    "np.random.seed(42)\n",
    "num_list = np.random.rand(6)\n",
    "\n",
    "print(f\"{[x.upper() for x in strings if len(x) >= 2]}\")\n",
    "\n",
    "print(f\"{[len(x) for x in strings]}\")\n",
    "\n",
    "print(f'{[x.split() for x in strings]}')\n",
    "\n",
    "print([f'{x.sum():,.2f}' for x in num_list])"
   ]
  },
  {
   "cell_type": "markdown",
   "id": "d1bd5aae",
   "metadata": {},
   "source": [
    "Set and dictionary comprehensions are a natural extension, producing sets and dictionaries in an idiomatically similar way instead of lists.\n",
    "\n",
    "A dictionary comprehension looks like this:\n",
    "```\n",
    "dict_comp = {key-expr: value-expr for value in collection\n",
    "             if condition}"
   ]
  },
  {
   "cell_type": "markdown",
   "id": "ef21ee7e",
   "metadata": {},
   "source": []
  },
  {
   "cell_type": "code",
   "execution_count": 180,
   "id": "ba04f87e",
   "metadata": {},
   "outputs": [
    {
     "data": {
      "text/plain": [
       "{1, 2, 3, 4, 6}"
      ]
     },
     "execution_count": 180,
     "metadata": {},
     "output_type": "execute_result"
    }
   ],
   "source": [
    "unique_lengths = {len(x) for x in strings}\n",
    "unique_lengths"
   ]
  },
  {
   "cell_type": "code",
   "execution_count": 181,
   "id": "9357638f",
   "metadata": {},
   "outputs": [
    {
     "data": {
      "text/plain": [
       "{1, 2, 3, 4, 6}"
      ]
     },
     "execution_count": 181,
     "metadata": {},
     "output_type": "execute_result"
    }
   ],
   "source": [
    "# We can express the above more functionally using the map function\n",
    "set(map(len, strings))"
   ]
  },
  {
   "cell_type": "code",
   "execution_count": 182,
   "id": "c05e9b25",
   "metadata": {},
   "outputs": [
    {
     "data": {
      "text/plain": [
       "{'a': 0, 'as': 1, 'bat': 2, 'car': 3, 'dove': 4, 'python': 5}"
      ]
     },
     "execution_count": 182,
     "metadata": {},
     "output_type": "execute_result"
    }
   ],
   "source": [
    "# As a simple dictionary comprehension example, we could create a lookup map of these strings for their locations in the list:\n",
    "{value: index for index, value in enumerate(strings)}"
   ]
  },
  {
   "cell_type": "code",
   "execution_count": 183,
   "id": "df7077ae",
   "metadata": {},
   "outputs": [
    {
     "data": {
      "text/plain": [
       "[['John', 'Emily', 'Michael', 'Mary', 'Steven'],\n",
       " ['Maria', 'Juan', 'Javier', 'Natalia', 'Pilar']]"
      ]
     },
     "execution_count": 183,
     "metadata": {},
     "output_type": "execute_result"
    }
   ],
   "source": [
    "all_data = [[\"John\", \"Emily\", \"Michael\", \"Mary\", \"Steven\"], [\"Maria\", \"Juan\", \"Javier\", \"Natalia\", \"Pilar\"]]\n",
    "all_data"
   ]
  },
  {
   "cell_type": "code",
   "execution_count": 186,
   "id": "cbf1715b",
   "metadata": {},
   "outputs": [
    {
     "data": {
      "text/plain": [
       "['Natalia']"
      ]
     },
     "execution_count": 186,
     "metadata": {},
     "output_type": "execute_result"
    }
   ],
   "source": [
    "# To get all the names that contain at least two \"a\"s, we could do the following\n",
    "names_of_interest = []\n",
    "\n",
    "for names in all_data:\n",
    "    enough_as = [name for name in names if name.count(\"a\") >= 2]\n",
    "    names_of_interest.extend(enough_as)\n",
    "    \n",
    "names_of_interest"
   ]
  },
  {
   "cell_type": "code",
   "execution_count": 189,
   "id": "012962dd",
   "metadata": {},
   "outputs": [
    {
     "data": {
      "text/plain": [
       "['Maria', 'Natalia']"
      ]
     },
     "execution_count": 189,
     "metadata": {},
     "output_type": "execute_result"
    }
   ],
   "source": [
    "# This can be done in a single nested list comprehension\n",
    "\n",
    "result = [name for names in all_data for name in names if name.count(\"a\") >= 2]\n",
    "result"
   ]
  },
  {
   "cell_type": "code",
   "execution_count": 191,
   "id": "c72e302c",
   "metadata": {},
   "outputs": [
    {
     "name": "stdout",
     "output_type": "stream",
     "text": [
      "John\n",
      "Emily\n",
      "Michael\n",
      "Mary\n",
      "Steven\n",
      "Maria\n",
      "Juan\n",
      "Javier\n",
      "Natalia\n",
      "Pilar\n"
     ]
    }
   ],
   "source": [
    "for names in all_data:\n",
    "    for name in names:\n",
    "        print(name)"
   ]
  },
  {
   "cell_type": "code",
   "execution_count": 200,
   "id": "38b82e8a",
   "metadata": {},
   "outputs": [
    {
     "name": "stdout",
     "output_type": "stream",
     "text": [
      "[1, 2, 3, 4, 5, 6, 7, 8, 9]\n"
     ]
    },
    {
     "data": {
      "text/plain": [
       "[1, 2, 3, 4, 5, 6, 7, 8, 9]"
      ]
     },
     "execution_count": 200,
     "metadata": {},
     "output_type": "execute_result"
    }
   ],
   "source": [
    "some_tuples = [(1, 2, 3), (4, 5, 6), (7, 8, 9)]\n",
    "some_tuples\n",
    "\n",
    "# How would we flatten this using list comprehension?\n",
    "# A loop would look like\n",
    "result = []\n",
    "for nums in some_tuples:\n",
    "    for num in nums:\n",
    "            result.append(num)\n",
    "\n",
    "print(result)\n",
    "\n",
    "[num for nums in some_tuples for num in nums]"
   ]
  },
  {
   "cell_type": "markdown",
   "id": "e6aee393",
   "metadata": {},
   "source": [
    "### FUNCTIONS\n",
    "Functions are the primary and most important method of code organization and reuse in Python. As a rule of thumb, if you anticipate needing to repeat the same or very similar code more than once, it may be worth writing a reusable function. Functions can also help make your code more readable by giving a name to a group of Python statements.\n",
    "\n",
    "Functions are declared with the def keyword. A function contains a block of code with an optional use of the return keyword:"
   ]
  },
  {
   "cell_type": "code",
   "execution_count": null,
   "id": "f44a47ca",
   "metadata": {},
   "outputs": [],
   "source": [
    "def my_function(x, y):\n",
    "    return x + y"
   ]
  },
  {
   "cell_type": "code",
   "execution_count": 205,
   "id": "6d6a4499",
   "metadata": {},
   "outputs": [
    {
     "name": "stdout",
     "output_type": "stream",
     "text": [
      "\u001b[31mSignature:\u001b[39m str.title(self, /)\n",
      "\u001b[31mDocstring:\u001b[39m\n",
      "Return a version of the string where each word is titlecased.\n",
      "\n",
      "More specifically, words start with uppercased characters and all remaining\n",
      "cased characters have lower case.\n",
      "\u001b[31mType:\u001b[39m      method_descriptor"
     ]
    }
   ],
   "source": [
    "import re"
   ]
  },
  {
   "cell_type": "code",
   "execution_count": 227,
   "id": "cb1f3aa6",
   "metadata": {},
   "outputs": [
    {
     "data": {
      "text/plain": [
       "['Alabama',\n",
       " 'Georgia',\n",
       " 'Georgia',\n",
       " 'Georgia',\n",
       " 'Florida',\n",
       " 'South Carolina',\n",
       " 'West Virginia']"
      ]
     },
     "execution_count": 227,
     "metadata": {},
     "output_type": "execute_result"
    }
   ],
   "source": [
    "states = [\"   Alabama \", \"Georgia!\", \"Georgia\", \"georgia\", \"FlOrIda\", \"south   carolina##\", \"West    virginia?\"]\n",
    "\n",
    "def clean_strings(strings):\n",
    "    result = []\n",
    "    for value in strings:\n",
    "        value = value.strip() # remove whitespace\n",
    "        value = re.sub(\"[!#?]\", \"\", value) # remove occurences of !, # or ?s\n",
    "        value = value.title() # Make everything an uppercase word\n",
    "        value = ' '.join(value.split()) # Removes all white space between words then adds 1 whitespace back in\n",
    "        result.append(value)\n",
    "    return result\n",
    "\n",
    "clean_strings(states)\n",
    "\n",
    "\n",
    "        "
   ]
  },
  {
   "cell_type": "code",
   "execution_count": 229,
   "id": "41991cd9",
   "metadata": {},
   "outputs": [
    {
     "data": {
      "text/plain": [
       "['Alabama',\n",
       " 'Georgia',\n",
       " 'Georgia',\n",
       " 'Georgia',\n",
       " 'Florida',\n",
       " 'South Carolina',\n",
       " 'West Virginia']"
      ]
     },
     "execution_count": 229,
     "metadata": {},
     "output_type": "execute_result"
    }
   ],
   "source": [
    "# We can write this into a recallable function as well\n",
    "def strip_punctuation(value):\n",
    "    return re.sub(\"[!#?]\", \"\", value)\n",
    "\n",
    "def normalize_whitespace(value):\n",
    "    return ' '.join(value.split())\n",
    "\n",
    "clean_ops = [str.strip, str.title, normalize_whitespace, strip_punctuation]\n",
    "\n",
    "def clean_strings(strings, ops):\n",
    "    result = []\n",
    "    for value in strings:\n",
    "        for func in ops:\n",
    "            value = func(value) \n",
    "        result.append(value)\n",
    "    return result \n",
    "\n",
    "clean_strings(states, clean_ops)"
   ]
  },
  {
   "cell_type": "code",
   "execution_count": 232,
   "id": "c4b1b2b1",
   "metadata": {},
   "outputs": [
    {
     "name": "stdout",
     "output_type": "stream",
     "text": [
      "Alabama\n",
      "Georgia!\n",
      "Georgia\n",
      "georgia\n",
      "FlOrIda\n",
      "south carolina##\n",
      "West virginia?\n"
     ]
    }
   ],
   "source": [
    "# Can also use a map function to now call some of the custom functions\n",
    "for x in map(normalize_whitespace, states):\n",
    "    print(x)"
   ]
  },
  {
   "cell_type": "markdown",
   "id": "30e1cc6f",
   "metadata": {},
   "source": [
    "### Lambda Functions\n",
    "Python has support for so-called anonymous or lambda functions, which are a way of writing functions consisting of a single statement, the result of which is the return value. They are defined with the lambda keyword, which has no meaning other than “we are declaring an anonymous function”:"
   ]
  },
  {
   "cell_type": "code",
   "execution_count": 235,
   "id": "ad7d3bb6",
   "metadata": {},
   "outputs": [
    {
     "data": {
      "text/plain": [
       "['aaaa', 'foo', 'abab', 'bar', 'card']"
      ]
     },
     "execution_count": 235,
     "metadata": {},
     "output_type": "execute_result"
    }
   ],
   "source": [
    "#et(x) : Converts the string x into a set of unique characters\n",
    "\n",
    "strings = [\"foo\", \"card\", \"bar\", \"aaaa\", \"abab\"]\n",
    "strings.sort(key=lambda x: len(set(x)))\n",
    "strings\n",
    "\n",
    "# So this returns the original list sorted by how many unique characters exist. "
   ]
  },
  {
   "cell_type": "markdown",
   "id": "1439bd67",
   "metadata": {},
   "source": [
    "### Generators\n",
    "Many objects in Python support iteration, such as over objects in a list or lines in a file. This is accomplished by means of the iterator protocol, a generic way to make objects iterable. For example, iterating over a dictionary yields the dictionary keys:"
   ]
  },
  {
   "cell_type": "code",
   "execution_count": 237,
   "id": "cafb7acd",
   "metadata": {},
   "outputs": [
    {
     "data": {
      "text/plain": [
       "['a', 'b', 'c']"
      ]
     },
     "execution_count": 237,
     "metadata": {},
     "output_type": "execute_result"
    }
   ],
   "source": [
    "some_dict = {\"a\": 1, \"b\": 2, \"c\": 3}\n",
    "list(iter(some_dict))"
   ]
  },
  {
   "cell_type": "code",
   "execution_count": 240,
   "id": "a5969f4d",
   "metadata": {},
   "outputs": [
    {
     "data": {
      "text/plain": [
       "328350"
      ]
     },
     "execution_count": 240,
     "metadata": {},
     "output_type": "execute_result"
    }
   ],
   "source": [
    "sum([x ** 2 for x in range(100)])"
   ]
  },
  {
   "cell_type": "code",
   "execution_count": null,
   "id": "d6b04a7e",
   "metadata": {},
   "outputs": [],
   "source": []
  }
 ],
 "metadata": {
  "kernelspec": {
   "display_name": ".venv",
   "language": "python",
   "name": "python3"
  },
  "language_info": {
   "codemirror_mode": {
    "name": "ipython",
    "version": 3
   },
   "file_extension": ".py",
   "mimetype": "text/x-python",
   "name": "python",
   "nbconvert_exporter": "python",
   "pygments_lexer": "ipython3",
   "version": "3.13.3"
  }
 },
 "nbformat": 4,
 "nbformat_minor": 5
}
